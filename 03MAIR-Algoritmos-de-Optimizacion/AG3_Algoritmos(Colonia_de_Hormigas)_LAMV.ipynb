{
 "cells": [
  {
   "cell_type": "markdown",
   "metadata": {
    "id": "FA7EJKjL6gtd"
   },
   "source": [
    "# Algoritmos - Actividad Guiada 3 (Colonia de Hormigas)\n",
    "\n",
    "Nombre: Luis Angel Motta Valero<br>\n",
    "\n",
    "URL: https://colab.research.google.com/drive/1AfYBgp8Uon8kt3omhgNyjEzxRVMsZUWN?usp=sharing<br>\n",
    "GitHub: [03MAIR-Algoritmos-de-Optimizacion](https://github.com/AngelMV97/03MAIR-Algoritmos-de-Optimizacion.git)"
   ]
  },
  {
   "cell_type": "code",
   "execution_count": 1,
   "metadata": {
    "colab": {
     "base_uri": "https://localhost:8080/"
    },
    "id": "Ku6PrPEl9V4u",
    "outputId": "d0ec0be1-79ba-44be-cb3a-4e19e52e2b6c"
   },
   "outputs": [
    {
     "name": "stdout",
     "output_type": "stream",
     "text": [
      "Requirement already satisfied: requests in /usr/local/lib/python3.10/dist-packages (2.27.1)\n",
      "Requirement already satisfied: urllib3<1.27,>=1.21.1 in /usr/local/lib/python3.10/dist-packages (from requests) (1.26.16)\n",
      "Requirement already satisfied: certifi>=2017.4.17 in /usr/local/lib/python3.10/dist-packages (from requests) (2023.7.22)\n",
      "Requirement already satisfied: charset-normalizer~=2.0.0 in /usr/local/lib/python3.10/dist-packages (from requests) (2.0.12)\n",
      "Requirement already satisfied: idna<4,>=2.5 in /usr/local/lib/python3.10/dist-packages (from requests) (3.4)\n",
      "Collecting tsplib95\n",
      "  Downloading tsplib95-0.7.1-py2.py3-none-any.whl (25 kB)\n",
      "Requirement already satisfied: Click>=6.0 in /usr/local/lib/python3.10/dist-packages (from tsplib95) (8.1.6)\n",
      "Collecting Deprecated~=1.2.9 (from tsplib95)\n",
      "  Downloading Deprecated-1.2.14-py2.py3-none-any.whl (9.6 kB)\n",
      "Collecting networkx~=2.1 (from tsplib95)\n",
      "  Downloading networkx-2.8.8-py3-none-any.whl (2.0 MB)\n",
      "\u001b[2K     \u001b[90m━━━━━━━━━━━━━━━━━━━━━━━━━━━━━━━━━━━━━━━━\u001b[0m \u001b[32m2.0/2.0 MB\u001b[0m \u001b[31m17.3 MB/s\u001b[0m eta \u001b[36m0:00:00\u001b[0m\n",
      "\u001b[?25hCollecting tabulate~=0.8.7 (from tsplib95)\n",
      "  Downloading tabulate-0.8.10-py3-none-any.whl (29 kB)\n",
      "Requirement already satisfied: wrapt<2,>=1.10 in /usr/local/lib/python3.10/dist-packages (from Deprecated~=1.2.9->tsplib95) (1.14.1)\n",
      "Installing collected packages: tabulate, networkx, Deprecated, tsplib95\n",
      "  Attempting uninstall: tabulate\n",
      "    Found existing installation: tabulate 0.9.0\n",
      "    Uninstalling tabulate-0.9.0:\n",
      "      Successfully uninstalled tabulate-0.9.0\n",
      "  Attempting uninstall: networkx\n",
      "    Found existing installation: networkx 3.1\n",
      "    Uninstalling networkx-3.1:\n",
      "      Successfully uninstalled networkx-3.1\n",
      "Successfully installed Deprecated-1.2.14 networkx-2.8.8 tabulate-0.8.10 tsplib95-0.7.1\n"
     ]
    }
   ],
   "source": [
    "#Modulo de llamadas http para descargar ficheros\n",
    "!pip install requests\n",
    "\n",
    "#Libreria del problema TSP: http://elib.zib.de/pub/mp-testdata/tsp/tsplib/tsplib.html\n",
    "!pip install tsplib95"
   ]
  },
  {
   "cell_type": "code",
   "execution_count": 2,
   "metadata": {
    "id": "lwwwi-Rr9haG"
   },
   "outputs": [],
   "source": [
    "import tsplib95\n",
    "import random\n",
    "from math import e\n",
    "import urllib.request"
   ]
  },
  {
   "cell_type": "code",
   "execution_count": 3,
   "metadata": {
    "id": "NpUqeOgl9yiK"
   },
   "outputs": [],
   "source": [
    "#DATOS DEL PROBLEMA\n",
    "file = \"swiss42.tsp\" ; urllib.request.urlretrieve(\"http://comopt.ifi.uni-heidelberg.de/software/TSPLIB95/tsp/swiss42.tsp.gz\", file + '.gz')\n",
    "!gzip -d swiss42.tsp.gz     #Descomprimir el fichero de datos\n",
    "problem = tsplib95.load(file)\n",
    "\n",
    "#Nodos\n",
    "Nodos = list(problem.get_nodes())\n",
    "\n",
    "#Devuelve la distancia entre dos nodos\n",
    "def distancia(a,b, problem):\n",
    "  return problem.get_weight(a,b)\n",
    "\n",
    "#Devuelve la distancia total de una trayectoria/solucion(lista de nodos)\n",
    "def distancia_total(solucion, problem):\n",
    "  distancia_total = 0\n",
    "  for i in range(len(solucion)-1):\n",
    "    distancia_total += distancia(solucion[i] ,solucion[i+1] ,  problem)\n",
    "  return distancia_total + distancia(solucion[len(solucion)-1] ,solucion[0], problem)\n"
   ]
  },
  {
   "cell_type": "markdown",
   "metadata": {
    "id": "hil3PCXB9iWf"
   },
   "source": [
    "##Algoritmo de colonia de hormigas\n",
    "\n",
    "La función Add_Nodo selecciona al azar un nodo con probabilidad uniforme.\n",
    "Para ser mas eficiente debería seleccionar el próximo nodo siguiendo la probabilidad correspondiente a la ecuación:\n",
    "\n",
    "$p^k_{ij}(t) = \\frac{[\\tau_{ij}(t)]^\\alpha[\\nu_{ij}]^\\beta}{\\sum_{l\\in J^k_i} [\\tau_{il}(t)]^\\alpha[\\nu_{il}]^\\beta}$, si $j \\in J^k_i$\n",
    "\n",
    "$p^k_{ij}(t) = 0$, si $j \\notin J^k_i$"
   ]
  },
  {
   "cell_type": "code",
   "execution_count": 4,
   "metadata": {
    "id": "BzzL8A_w-BeZ"
   },
   "outputs": [],
   "source": [
    "def Add_Nodo(problem, H ,T ) :\n",
    "  #Mejora:Establecer una funcion de probabilidad para\n",
    "  # añadir un nuevo nodo dependiendo de los nodos mas cercanos y de las feromonas depositadas\n",
    "  Nodos = list(problem.get_nodes())\n",
    "  return random.choice(   list(set(range(1,len(Nodos))) - set(H) )  )\n",
    "\n",
    "\n",
    "def Incrementa_Feromona(problem, T, H ) :\n",
    "  #Incrementa segun la calidad de la solución. Añadir una cantidad inversamente proporcional a la distancia total\n",
    "  for i in range(len(H)-1):\n",
    "    T[H[i]][H[i+1]] += 1000/distancia_total(H, problem)\n",
    "  return T\n",
    "\n",
    "def Evaporar_Feromonas(T ):\n",
    "  #Evapora 0.3 el valor de la feromona, sin que baje de 1\n",
    "  #Mejora:Podemos elegir diferentes funciones de evaporación dependiendo de la cantidad actual y de la suma total de feromonas depositadas,...\n",
    "  T = [[ max(T[i][j] - 0.3 , 1) for i in range(len(Nodos)) ] for j in range(len(Nodos))]\n",
    "  return T"
   ]
  },
  {
   "cell_type": "code",
   "execution_count": 5,
   "metadata": {
    "colab": {
     "base_uri": "https://localhost:8080/"
    },
    "id": "8H08lRY7-Emq",
    "outputId": "90ad6b72-c89d-440d-9c5e-b27769df994f"
   },
   "outputs": [
    {
     "name": "stdout",
     "output_type": "stream",
     "text": [
      "[0, 14, 40, 27, 35, 37, 19, 30, 39, 23, 10, 22, 7, 13, 12, 21, 24, 3, 33, 36, 15, 16, 26, 6, 34, 4, 2, 11, 25, 41, 9, 8, 18, 1, 20, 17, 32, 38, 29, 28, 31, 5]\n",
      "3685\n"
     ]
    }
   ],
   "source": [
    "def hormigas(problem, N) :\n",
    "  #problem = datos del problema\n",
    "  #N = Número de agentes(hormigas)\n",
    "\n",
    "  #Nodos\n",
    "  Nodos = list(problem.get_nodes())\n",
    "  #Aristas\n",
    "  Aristas = list(problem.get_edges())\n",
    "\n",
    "  #Inicializa las aristas con una cantidad inicial de feromonas:1\n",
    "  #Mejora: inicializar con valores diferentes dependiendo diferentes criterios\n",
    "  T = [[ 1 for _ in range(len(Nodos)) ] for _ in range(len(Nodos))]\n",
    "\n",
    "  #Se generan los agentes(hormigas) que serán estructuras de caminos desde 0\n",
    "  Hormiga = [[0] for _ in range(N)]\n",
    "\n",
    "  #Recorre cada agente construyendo la solución\n",
    "  for h in range(N) :\n",
    "    #Para cada agente se construye un camino\n",
    "    for i in range(len(Nodos)-1) :\n",
    "\n",
    "      #Elige el siguiente nodo\n",
    "      Nuevo_Nodo = Add_Nodo(problem, Hormiga[h] ,T )\n",
    "      Hormiga[h].append(Nuevo_Nodo)\n",
    "\n",
    "    #Incrementa feromonas en esa arista\n",
    "    T = Incrementa_Feromona(problem, T, Hormiga[h] )\n",
    "    #print(\"Feromonas(1)\", T)\n",
    "\n",
    "    #Evapora Feromonas\n",
    "    T = Evaporar_Feromonas(T)\n",
    "    #print(\"Feromonas(2)\", T)\n",
    "\n",
    "    #Seleccionamos el mejor agente\n",
    "  mejor_solucion = []\n",
    "  mejor_distancia = 10e100\n",
    "  for h in range(N) :\n",
    "    distancia_actual = distancia_total(Hormiga[h], problem)\n",
    "    if distancia_actual < mejor_distancia:\n",
    "      mejor_solucion = Hormiga[h]\n",
    "      mejor_distancia =distancia_actual\n",
    "\n",
    "\n",
    "  print(mejor_solucion)\n",
    "  print(mejor_distancia)\n",
    "\n",
    "\n",
    "hormigas(problem, 1000)"
   ]
  }
 ],
 "metadata": {
  "colab": {
   "provenance": []
  },
  "kernelspec": {
   "display_name": "Python 3 (ipykernel)",
   "language": "python",
   "name": "python3"
  },
  "language_info": {
   "codemirror_mode": {
    "name": "ipython",
    "version": 3
   },
   "file_extension": ".py",
   "mimetype": "text/x-python",
   "name": "python",
   "nbconvert_exporter": "python",
   "pygments_lexer": "ipython3",
   "version": "3.9.13"
  }
 },
 "nbformat": 4,
 "nbformat_minor": 1
}
