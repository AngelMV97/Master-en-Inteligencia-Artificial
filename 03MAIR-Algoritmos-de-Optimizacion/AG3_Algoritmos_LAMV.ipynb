{
 "cells": [
  {
   "cell_type": "markdown",
   "metadata": {
    "id": "d0P7dKHRXg9h"
   },
   "source": [
    "# Algoritmos - Actividad Guiada 3\n",
    "\n",
    "Nombre: Luis Angel Motta Valero<br>\n",
    "\n",
    "URL: https://colab.research.google.com/drive/1GV-ROZC5uJaVCBRafE90241kl4MAWNDN?usp=sharing<br>\n",
    "GitHub: [03MAIR-Algoritmos-de-Optimizacion](https://github.com/AngelMV97/03MAIR-Algoritmos-de-Optimizacion.git)"
   ]
  },
  {
   "cell_type": "code",
   "execution_count": 1,
   "metadata": {
    "colab": {
     "base_uri": "https://localhost:8080/"
    },
    "id": "NKSufY80XUbo",
    "outputId": "7fabb142-9878-43a4-da9b-96345cc3aad7"
   },
   "outputs": [
    {
     "name": "stdout",
     "output_type": "stream",
     "text": [
      "Requirement already satisfied: requests in /usr/local/lib/python3.10/dist-packages (2.27.1)\n",
      "Requirement already satisfied: urllib3<1.27,>=1.21.1 in /usr/local/lib/python3.10/dist-packages (from requests) (1.26.16)\n",
      "Requirement already satisfied: certifi>=2017.4.17 in /usr/local/lib/python3.10/dist-packages (from requests) (2023.7.22)\n",
      "Requirement already satisfied: charset-normalizer~=2.0.0 in /usr/local/lib/python3.10/dist-packages (from requests) (2.0.12)\n",
      "Requirement already satisfied: idna<4,>=2.5 in /usr/local/lib/python3.10/dist-packages (from requests) (3.4)\n",
      "Collecting tsplib95\n",
      "  Downloading tsplib95-0.7.1-py2.py3-none-any.whl (25 kB)\n",
      "Requirement already satisfied: Click>=6.0 in /usr/local/lib/python3.10/dist-packages (from tsplib95) (8.1.6)\n",
      "Collecting Deprecated~=1.2.9 (from tsplib95)\n",
      "  Downloading Deprecated-1.2.14-py2.py3-none-any.whl (9.6 kB)\n",
      "Collecting networkx~=2.1 (from tsplib95)\n",
      "  Downloading networkx-2.8.8-py3-none-any.whl (2.0 MB)\n",
      "\u001b[2K     \u001b[90m━━━━━━━━━━━━━━━━━━━━━━━━━━━━━━━━━━━━━━━━\u001b[0m \u001b[32m2.0/2.0 MB\u001b[0m \u001b[31m9.5 MB/s\u001b[0m eta \u001b[36m0:00:00\u001b[0m\n",
      "\u001b[?25hCollecting tabulate~=0.8.7 (from tsplib95)\n",
      "  Downloading tabulate-0.8.10-py3-none-any.whl (29 kB)\n",
      "Requirement already satisfied: wrapt<2,>=1.10 in /usr/local/lib/python3.10/dist-packages (from Deprecated~=1.2.9->tsplib95) (1.14.1)\n",
      "Installing collected packages: tabulate, networkx, Deprecated, tsplib95\n",
      "  Attempting uninstall: tabulate\n",
      "    Found existing installation: tabulate 0.9.0\n",
      "    Uninstalling tabulate-0.9.0:\n",
      "      Successfully uninstalled tabulate-0.9.0\n",
      "  Attempting uninstall: networkx\n",
      "    Found existing installation: networkx 3.1\n",
      "      Successfully uninstalled networkx-3.1\n",
      "Successfully installed Deprecated-1.2.14 networkx-2.8.8 tabulate-0.8.10 tsplib95-0.7.1\n"
     ]
    }
   ],
   "source": [
    "#Hacer llamadas http a paginas de la red\n",
    "!pip install requests\n",
    "#Modulo para las instancias del problema del TSP\n",
    "!pip install tsplib95"
   ]
  },
  {
   "cell_type": "code",
   "execution_count": 2,
   "metadata": {
    "id": "IrxweCLBYjeh"
   },
   "outputs": [],
   "source": [
    "import urllib.request #Hacer llamadas http a paginas de la red\n",
    "import tsplib95       #Modulo para las instancias del problema del TSP\n",
    "import math           #Modulo de funciones matematicas. Se usa para exp\n",
    "import random                     #Para generar valores aleatorios\n",
    "\n",
    "\n",
    "#http://elib.zib.de/pub/mp-testdata/tsp/tsplib/\n",
    "#Documentacion :\n",
    "  # http://comopt.ifi.uni-heidelberg.de/software/TSPLIB95/tsp95.pdf\n",
    "  # https://tsplib95.readthedocs.io/en/stable/pages/usage.html\n",
    "  # https://tsplib95.readthedocs.io/en/v0.6.1/modules.html\n",
    "  # https://pypi.org/project/tsplib95/\n",
    "\n",
    "#Descargamos el fichero de datos(Matriz de distancias)\n",
    "file = \"swiss42.tsp\" ;\n",
    "urllib.request.urlretrieve(\"http://comopt.ifi.uni-heidelberg.de/software/TSPLIB95/tsp/swiss42.tsp.gz\", file + '.gz')\n",
    "#Descomprimir el fichero de datos\n",
    "!gzip -d swiss42.tsp.gz"
   ]
  },
  {
   "cell_type": "code",
   "execution_count": 3,
   "metadata": {
    "id": "MONKMVllYy0c"
   },
   "outputs": [],
   "source": [
    "#Carga de datos y generación de objeto problem\n",
    "###############################################################################\n",
    "problem = tsplib95.load(file)\n",
    "\n",
    "#Nodos\n",
    "Nodos = list(problem.get_nodes())\n",
    "\n",
    "#Aristas\n",
    "Aristas = list(problem.get_edges())"
   ]
  },
  {
   "cell_type": "code",
   "execution_count": 4,
   "metadata": {
    "colab": {
     "base_uri": "https://localhost:8080/"
    },
    "id": "j7Nr5ieYZOLA",
    "outputId": "1b3c493e-d89b-4eae-eb2c-105261f64731"
   },
   "outputs": [
    {
     "data": {
      "text/plain": [
       "15"
      ]
     },
     "execution_count": 4,
     "metadata": {},
     "output_type": "execute_result"
    }
   ],
   "source": [
    "#Probamos algunas funciones del objeto problem\n",
    "\n",
    "#Distancia entre nodos\n",
    "problem.get_weight(0, 1)"
   ]
  },
  {
   "cell_type": "code",
   "execution_count": 5,
   "metadata": {
    "id": "h5tNkB5oZQxB"
   },
   "outputs": [],
   "source": [
    "#Funcionas basicas\n",
    "###############################################################################\n",
    "\n",
    "#Se genera una solucion aleatoria con comienzo en en el nodo 0\n",
    "def crear_solucion(Nodos):\n",
    "  solucion = [Nodos[0]]\n",
    "  for n in Nodos[1:]:\n",
    "    solucion = solucion + [random.choice(list(set(Nodos) - set({Nodos[0]}) - set(solucion)))]\n",
    "  return solucion\n",
    "\n",
    "#Devuelve la distancia entre dos nodos\n",
    "def distancia(a,b, problem):\n",
    "  return problem.get_weight(a,b)\n",
    "\n",
    "#Devuelve la distancia total de una trayectoria/solucion\n",
    "def distancia_total(solucion, problem):\n",
    "  distancia_total = 0\n",
    "  for i in range(len(solucion)-1):\n",
    "    distancia_total += distancia(solucion[i] ,solucion[i+1] ,  problem)\n",
    "  return distancia_total + distancia(solucion[len(solucion)-1] ,solucion[0], problem)"
   ]
  },
  {
   "cell_type": "code",
   "execution_count": 6,
   "metadata": {
    "colab": {
     "base_uri": "https://localhost:8080/"
    },
    "id": "cshFEo-Lf3BD",
    "outputId": "d755bea4-c4ab-44bb-e8e5-8651029e47aa"
   },
   "outputs": [
    {
     "data": {
      "text/plain": [
       "4564"
      ]
     },
     "execution_count": 6,
     "metadata": {},
     "output_type": "execute_result"
    }
   ],
   "source": [
    "solucion_aleatoria = crear_solucion(Nodos)\n",
    "distancia_total(solucion_aleatoria, problem)"
   ]
  },
  {
   "cell_type": "code",
   "execution_count": 7,
   "metadata": {
    "colab": {
     "base_uri": "https://localhost:8080/"
    },
    "id": "b5RMKpc9gA8S",
    "outputId": "c6318b3f-3035-4e13-9ec4-29e562cd8b76"
   },
   "outputs": [
    {
     "name": "stdout",
     "output_type": "stream",
     "text": [
      "Mejor solución: [0, 37, 15, 2, 3, 7, 32, 34, 29, 21, 8, 10, 30, 16, 14, 19, 35, 31, 33, 41, 38, 39, 24, 12, 26, 25, 22, 40, 9, 23, 36, 17, 28, 4, 6, 5, 18, 27, 13, 1, 11, 20]\n",
      "Distancia     : 3488\n"
     ]
    }
   ],
   "source": [
    "###############################################################################\n",
    "# BUSQUEDA ALEATORIA\n",
    "###############################################################################\n",
    "\n",
    "def busqueda_aleatoria(problem, N):\n",
    "  #N es el numero de iteraciones\n",
    "  Nodos = list(problem.get_nodes())\n",
    "\n",
    "  mejor_solucion = []\n",
    "  #mejor_distancia = 10e100                         #Inicializamos con un valor alto\n",
    "  mejor_distancia = float('inf')                    #Inicializamos con un valor alto\n",
    "\n",
    "  for i in range(N):                                #Criterio de parada: repetir N veces pero podemos incluir otros\n",
    "    solucion = crear_solucion(Nodos)                #Genera una solucion aleatoria\n",
    "    distancia = distancia_total(solucion, problem)  #Calcula el valor objetivo(distancia total)\n",
    "\n",
    "    if distancia < mejor_distancia:                 #Compara con la mejor obtenida hasta ahora\n",
    "      mejor_solucion = solucion\n",
    "      mejor_distancia = distancia\n",
    "\n",
    "\n",
    "  print(\"Mejor solución:\" , mejor_solucion)\n",
    "  print(\"Distancia     :\" , mejor_distancia)\n",
    "  return mejor_solucion\n",
    "\n",
    "\n",
    "#Busqueda aleatoria con 10000 iteraciones\n",
    "solucion = busqueda_aleatoria(problem, 10000)"
   ]
  },
  {
   "cell_type": "code",
   "execution_count": 8,
   "metadata": {
    "colab": {
     "base_uri": "https://localhost:8080/"
    },
    "id": "EiipIEP7hqwd",
    "outputId": "3bb8e15e-3b8c-4d65-cff2-706932bc638d"
   },
   "outputs": [
    {
     "name": "stdout",
     "output_type": "stream",
     "text": [
      "Mejor solución: [0, 22, 24, 2, 40, 31, 14, 11, 41, 21, 9, 23, 20, 33, 32, 29, 30, 26, 15, 3, 5, 16, 25, 12, 27, 13, 1, 18, 10, 38, 35, 36, 17, 6, 28, 8, 39, 4, 7, 19, 37, 34]\n",
      "Distancia     : 3709\n"
     ]
    }
   ],
   "source": [
    "#Busqueda aleatoria con 10000 iteraciones\n",
    "solucion = busqueda_aleatoria(problem, 10000)"
   ]
  },
  {
   "cell_type": "code",
   "execution_count": 9,
   "metadata": {
    "colab": {
     "base_uri": "https://localhost:8080/"
    },
    "id": "Uoci1kqmh67A",
    "outputId": "99572318-3a65-482a-f6a1-c8d0937ab5da"
   },
   "outputs": [
    {
     "name": "stdout",
     "output_type": "stream",
     "text": [
      "Distancia Solucion Incial: 3709\n",
      "Distancia Mejor Solucion Local: 3378\n"
     ]
    }
   ],
   "source": [
    "###############################################################################\n",
    "# BUSQUEDA LOCAL\n",
    "###############################################################################\n",
    "def genera_vecina(solucion):\n",
    "  #Generador de soluciones vecinas: 2-opt (intercambiar 2 nodos) Si hay N nodos se generan (N-1)x(N-2)/2 soluciones\n",
    "  #Se puede modificar para aplicar otros generadores distintos que 2-opt\n",
    "  #print(solucion)\n",
    "  mejor_solucion = []\n",
    "  mejor_distancia = 10e100\n",
    "  for i in range(1,len(solucion)-1):          #Recorremos todos los nodos en bucle doble para evaluar todos los intercambios 2-opt\n",
    "    for j in range(i+1, len(solucion)):\n",
    "\n",
    "      #Se genera una nueva solución intercambiando los dos nodos i,j:\n",
    "      #  (usamos el operador + que para listas en python las concatena) : ej.: [1,2] + [3] = [1,2,3]\n",
    "      vecina = solucion[:i] + [solucion[j]] + solucion[i+1:j] + [solucion[i]] + solucion[j+1:]\n",
    "\n",
    "      #Se evalua la nueva solución ...\n",
    "      distancia_vecina = distancia_total(vecina, problem)\n",
    "\n",
    "      #... para guardarla si mejora las anteriores\n",
    "      if distancia_vecina <= mejor_distancia:\n",
    "        mejor_distancia = distancia_vecina\n",
    "        mejor_solucion = vecina\n",
    "  return mejor_solucion\n",
    "\n",
    "\n",
    "#solucion = [1, 47, 13, 41, 40, 19, 42, 44, 37, 5, 22, 28, 3, 2, 29, 21, 50, 34, 30, 9, 16, 11, 38, 49, 10, 39, 33, 45, 15, 24, 43, 26, 31, 36, 35, 20, 8, 7, 23, 48, 27, 12, 17, 4, 18, 25, 14, 6, 51, 46, 32]\n",
    "print(\"Distancia Solucion Incial:\" , distancia_total(solucion, problem))\n",
    "\n",
    "\n",
    "nueva_solucion = genera_vecina(solucion)\n",
    "print(\"Distancia Mejor Solucion Local:\", distancia_total(nueva_solucion, problem))"
   ]
  },
  {
   "cell_type": "code",
   "execution_count": 10,
   "metadata": {
    "colab": {
     "base_uri": "https://localhost:8080/"
    },
    "id": "zSCw36n2u-SF",
    "outputId": "3d5dbaf1-214e-4358-c97d-703dfbfd5616"
   },
   "outputs": [
    {
     "name": "stdout",
     "output_type": "stream",
     "text": [
      "En la iteracion  47 , la mejor solución encontrada es: [0, 1, 6, 4, 2, 28, 27, 3, 7, 37, 17, 36, 35, 31, 29, 8, 9, 39, 21, 24, 40, 23, 41, 10, 25, 11, 12, 18, 26, 32, 20, 33, 34, 38, 22, 30, 5, 13, 19, 14, 16, 15]\n",
      "Distancia     : 1669\n"
     ]
    }
   ],
   "source": [
    "#Busqueda Local:\n",
    "#  - Sobre el operador de vecindad 2-opt(funcion genera_vecina)\n",
    "#  - Sin criterio de parada, se para cuando no es posible mejorar.\n",
    "def busqueda_local(problem):\n",
    "  mejor_solucion = []\n",
    "\n",
    "  #Generar una solucion inicial de referencia(aleatoria)\n",
    "  solucion_referencia = crear_solucion(Nodos)\n",
    "  mejor_distancia = distancia_total(solucion_referencia, problem)\n",
    "\n",
    "  iteracion=0             #Un contador para saber las iteraciones que hacemos\n",
    "  while(1):\n",
    "    iteracion +=1         #Incrementamos el contador\n",
    "    #print('#',iteracion)\n",
    "\n",
    "    #Obtenemos la mejor vecina ...\n",
    "    vecina = genera_vecina(solucion_referencia)\n",
    "\n",
    "    #... y la evaluamos para ver si mejoramos respecto a lo encontrado hasta el momento\n",
    "    distancia_vecina = distancia_total(vecina, problem)\n",
    "\n",
    "    #Si no mejoramos hay que terminar. Hemos llegado a un minimo local(según nuestro operador de vencindad 2-opt)\n",
    "    if distancia_vecina < mejor_distancia:\n",
    "      #mejor_solucion = copy.deepcopy(vecina)   #Con copia profunda. Las copias en python son por referencia\n",
    "      mejor_solucion = vecina                   #Guarda la mejor solución encontrada\n",
    "      mejor_distancia = distancia_vecina\n",
    "\n",
    "    else:\n",
    "      print(\"En la iteracion \", iteracion, \", la mejor solución encontrada es:\" , mejor_solucion)\n",
    "      print(\"Distancia     :\" , mejor_distancia)\n",
    "      return mejor_solucion\n",
    "\n",
    "    solucion_referencia = vecina\n",
    "\n",
    "\n",
    "sol = busqueda_local(problem )"
   ]
  },
  {
   "cell_type": "code",
   "execution_count": 11,
   "metadata": {
    "id": "xnbMco_Jx5B1"
   },
   "outputs": [],
   "source": [
    "###############################################################################\n",
    "# SIMULATED ANNEALING\n",
    "###############################################################################\n",
    "\n",
    "#Generador de 1 solucion vecina 2-opt 100% aleatoria (intercambiar 2 nodos)\n",
    "#Mejorable eligiendo otra forma de elegir una vecina.\n",
    "def genera_vecina_aleatorio(solucion):\n",
    "\n",
    "  #Se eligen dos nodos aleatoriamente\n",
    "  i,j = sorted(random.sample( range(1,len(solucion)) , 2))\n",
    "\n",
    "  #Devuelve una nueva solución pero intercambiando los dos nodos elegidos al azar\n",
    "  return solucion[:i] + [solucion[j]] + solucion[i+1:j] + [solucion[i]] + solucion[j+1:]\n",
    "\n",
    "\n",
    "#Funcion de probabilidad para aceptar peores soluciones\n",
    "def probabilidad(T,d):\n",
    "  if random.random() <  math.exp( -1*d / T)  :\n",
    "    return True\n",
    "  else:\n",
    "    return False\n",
    "\n",
    "#Funcion de descenso de temperatura\n",
    "def bajar_temperatura(T):\n",
    "  return T*0.99"
   ]
  },
  {
   "cell_type": "code",
   "execution_count": 12,
   "metadata": {
    "colab": {
     "base_uri": "https://localhost:8080/"
    },
    "id": "IOgIA7eAyHbk",
    "outputId": "03c51f10-f4d9-49b3-ead9-9542a2f0cc0b"
   },
   "outputs": [
    {
     "name": "stdout",
     "output_type": "stream",
     "text": [
      "La mejor solución encontrada es [0, 31, 17, 1, 6, 26, 11, 12, 25, 41, 40, 24, 30, 34, 20, 36, 35, 33, 38, 22, 9, 8, 23, 21, 39, 32, 7, 15, 14, 4, 3, 27, 37, 16, 19, 13, 5, 18, 10, 29, 2, 28]\n",
      "con una distancia total de 2137\n"
     ]
    }
   ],
   "source": [
    "def recocido_simulado(problem, TEMPERATURA ):\n",
    "  #problem = datos del problema\n",
    "  #T = Temperatura\n",
    "\n",
    "  solucion_referencia = crear_solucion(Nodos)\n",
    "  distancia_referencia = distancia_total(solucion_referencia, problem)\n",
    "\n",
    "  mejor_solucion = []             #x* del seudocodigo\n",
    "  mejor_distancia = 10e100        #F* del seudocodigo\n",
    "\n",
    "\n",
    "  N=0\n",
    "  while TEMPERATURA > .0001:\n",
    "    N+=1\n",
    "    #Genera una solución vecina\n",
    "    vecina =genera_vecina_aleatorio(solucion_referencia)\n",
    "\n",
    "    #Calcula su valor(distancia)\n",
    "    distancia_vecina = distancia_total(vecina, problem)\n",
    "\n",
    "    #Si es la mejor solución de todas se guarda(siempre!!!)\n",
    "    if distancia_vecina < mejor_distancia:\n",
    "        mejor_solucion = vecina\n",
    "        mejor_distancia = distancia_vecina\n",
    "\n",
    "    #Si la nueva vecina es mejor se cambia\n",
    "    #Si es peor se cambia según una probabilidad que depende de T y delta(distancia_referencia - distancia_vecina)\n",
    "    if distancia_vecina < distancia_referencia or probabilidad(TEMPERATURA, abs(distancia_referencia - distancia_vecina) ) :\n",
    "      #solucion_referencia = copy.deepcopy(vecina)\n",
    "      solucion_referencia = vecina\n",
    "      distancia_referencia = distancia_vecina\n",
    "\n",
    "    #Bajamos la temperatura\n",
    "    TEMPERATURA = bajar_temperatura(TEMPERATURA)\n",
    "\n",
    "  print(\"La mejor solución encontrada es \" , end=\"\")\n",
    "  print(mejor_solucion)\n",
    "  print(\"con una distancia total de \" , end=\"\")\n",
    "  print(mejor_distancia)\n",
    "  return mejor_solucion\n",
    "\n",
    "sol  = recocido_simulado(problem, 10000000)"
   ]
  }
 ],
 "metadata": {
  "colab": {
   "provenance": []
  },
  "kernelspec": {
   "display_name": "Python 3 (ipykernel)",
   "language": "python",
   "name": "python3"
  },
  "language_info": {
   "codemirror_mode": {
    "name": "ipython",
    "version": 3
   },
   "file_extension": ".py",
   "mimetype": "text/x-python",
   "name": "python",
   "nbconvert_exporter": "python",
   "pygments_lexer": "ipython3",
   "version": "3.9.13"
  }
 },
 "nbformat": 4,
 "nbformat_minor": 1
}
