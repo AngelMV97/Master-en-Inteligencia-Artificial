{
 "cells": [
  {
   "cell_type": "markdown",
   "metadata": {
    "id": "hVbXYX-RfPWh"
   },
   "source": [
    "# Algoritmos de optimización - Seminario<br>\n",
    "Nombre y Apellidos: Luis Angel Motta Valero<br>\n",
    "\n",
    "URL: https://drive.google.com/file/d/1v2xoJ78jemWAIgVSZzc00KGTEIZJSTrq/view?usp=sharing<br>\n",
    "GitHub: [03MAIR-Algoritmos-de-Optimizacion](https://github.com/AngelMV97/03MAIR-Algoritmos-de-Optimizacion.git)<br>\n",
    "\n",
    "Problema:\n",
    "\n",
    "> 1. Sesiones de doblaje <br>\n",
    ">2. Organizar los horarios de partidos de La Liga<br>\n",
    ">3. Combinar cifras y operaciones\n",
    "\n",
    "2. Organizar los horarios de partidos de La Liga.<br>\n",
    "\n",
    "**Descripción del problema:** Desde la La Liga de fútbol profesional se pretende organizar los horarios de los partidos de\n",
    "liga de cada jornada. Se conocen algunos datos que nos deben llevar a diseñar un\n",
    "algoritmo que realice la asignación de los partidos a los horarios de forma que maximice\n",
    "la audiencia.\n",
    "\n",
    "---\n",
    "\n",
    "\n",
    "\n",
    "\n",
    "\n",
    "\n",
    "                                        "
   ]
  },
  {
   "cell_type": "markdown",
   "metadata": {
    "id": "3_-exlrTgLd-"
   },
   "source": [
    "**¿Cuantas posibilidades hay sin tener en cuenta las restricciones?**\n",
    "\n",
    "\n",
    "\n",
    "**¿Cuantas posibilidades hay teniendo en cuenta todas las restricciones.**\n",
    "\n",
    "\n"
   ]
  },
  {
   "cell_type": "markdown",
   "metadata": {
    "id": "QP2NDkmOPdcx"
   },
   "source": [
    "*Respuesta*\n",
    "\n",
    "De acuerdo con el problema, se tiene igual cantidad de partidos y horarios para cada partido, por lo tanto,  existen $n$ horarios por cada $n$ partidos, eso es $n^{n}$ posibilidades sin restricciones; sin embargo, para una misma planeación en los equipos que jugarán cada partido (la cual es dada por el problema y por ello no se considera el número de equipos que conforman las diferentes categorías como una restricción para este cálculo), las únicas restricciones son que pueden presentarse coincidencias en el horario en que jueguen los partidos y obligatoriamente se debe jugar un partido el lunes y uno el viernes, con ello, los posibles horarios y partidos se reducen en 2 luego de ubicar el respectivo partido para el lunes y el correspondiente partido del viernes, y para el restante $n-2$ número de partidos existen $n-2$ horarios disponibles dado que se pueden repetir los horarios.\n",
    "\n",
    "Adicionalmente, por cada posicion $i = n$ en que se pueda ubicar el vienes (o lunes) dentro de la lista de partidos, hay $j = n-1$ posiciones para el lunes (o viernes); así, serán en total $n(n-1)[(n-2)^{n-2}]$ posibilidades, donde $n$ es el número de horarios disponibles para cada partido, que para el problema planteado es 10, recordando que dichos horarios son los siguientes:\n",
    "\n",
    "**Lunes:** 20h<br>\n",
    "**Viernes:** 20h<br>\n",
    "**Sábado:** 12h - 16h - 18h - 20h<br>\n",
    "**Domingo:** 12h - 16h - 18h - 20h<br>\n",
    "\n",
    "---"
   ]
  },
  {
   "cell_type": "markdown",
   "metadata": {
    "id": "dzynfVJahHoY"
   },
   "source": [
    "### Modelo para el espacio de soluciones<br>\n",
    "**¿Cual es la estructura de datos que mejor se adapta al problema? Argumentalo.(Es posible que hayas elegido una al principio y veas la necesidad de cambiar, arguentalo)**\n"
   ]
  },
  {
   "cell_type": "markdown",
   "metadata": {
    "id": "OsLCKNd0Pdcz"
   },
   "source": [
    "*Respuesta*\n",
    "\n",
    "Inicialmente se tomó el espacio de soluciones como un diccionario cuya clave para cada uno de sus elementos es una lista que contiene el orden específico para los 10 horarios tomados y su respectivo valor es otra lista con la cantidad de audiencia para cada partido acorde a su horario, así, el total de audiencia lograda sería la suma para dicho elemento. Resultó una estructura poco funcional y, mientras resolvía el problema, se necesitó que la lista de horarios y su correspondiente lista de audiencia esstuvieran en formato tipo lista, es decir, separadas y no como clave-valor dentro de un diccionario. Así que dentro del algoritmo resultaban 3 listas:\n",
    "\n",
    "- Solucion: lista con los 10 horarios tomados para el conjunto de partidos.\n",
    "- x: lista con la cantidad de audiencia presente para cada horario.\n",
    "- y: total de audiencia estimada para la solucion encontrada.\n",
    "\n",
    "---"
   ]
  },
  {
   "cell_type": "markdown",
   "metadata": {
    "id": "aiTxsVYxROt4"
   },
   "source": [
    "A partir de la siguiente pregunta se introducirán líneas de código, antes de continuar se importan las librerías necesarias"
   ]
  },
  {
   "cell_type": "code",
   "execution_count": 69,
   "metadata": {
    "id": "wcgXEtzBPdc1"
   },
   "outputs": [],
   "source": [
    "import time\n",
    "import random\n",
    "import numpy as np\n",
    "import matplotlib.pyplot as plt\n",
    "import pandas as pd"
   ]
  },
  {
   "cell_type": "markdown",
   "metadata": {
    "id": "7Z9U2W7bi-XS"
   },
   "source": [
    "### Según el modelo para el espacio de soluciones<br>\n",
    "**¿Cual es la función objetivo?**\n",
    "\n",
    "**¿Es un problema de maximización o minimización?**"
   ]
  },
  {
   "cell_type": "markdown",
   "metadata": {
    "id": "hBalWLM7j1_d"
   },
   "source": [
    "*Respuesta*\n",
    "\n",
    "El problema requiere encontrar la combinación de horarios para la lista de partidos dada que permita obtener la mayor audiencia presente posible, por lo tanto, es un problema de maximización.\n",
    "\n",
    "Como se comentó previamente, se obtienen 3 listas, a partir de las cuales se aplica el método del descenso del gradiente para encontrar la función objetivo  empleando la regresión lineal. La funcón que construye las listas es una modificación del algoritmo que mejora la complejidad del algoritmo por fuerza bruta y recibe por parámetros la lista de categorías del problema, las listas *soluciones*, *x* y *y*, además de una cantidad *n* de iteraciones máximas. La función en cuestión consiste en crear una solución aleatoria, si su audiencia total no está en *y*, entonces dicho valor es agregado a esta lista, así como la solución y las $x_i$ a las listas correspondientes, luego realiza permutaciones con dicha solución y vuelve a verificar si el total con cada permutación está en *y*; el algortimo es ejecutado hasta completar las *n* iteraciones.\n",
    "\n",
    "Dado que algunos horarios tienen el mismo factor de audiencia (S20 y D20 tienen el mismo factor 1, al igual que V12 y L12 con factor 0.4 para ambos) y se repiten algunas categorías entre los partidos, ciertas soluciones compartirán el mismo total, por ello, las soluciones tomadas serán pocas en comparación con todas las soluciones posibles, para evitar repetir audiencias totales."
   ]
  },
  {
   "cell_type": "markdown",
   "metadata": {
    "id": "fdsETlCzPdc1"
   },
   "source": [
    "La función es la siguiente:"
   ]
  },
  {
   "cell_type": "code",
   "execution_count": 2,
   "metadata": {
    "id": "pDA-rg3Gj5Lz"
   },
   "outputs": [],
   "source": [
    "def variables_liga(categorias,x,y,soluciones,n=10000):\n",
    "\n",
    "    for _ in range(n):\n",
    "        solucion_inicial = crear_solucion()\n",
    "        audiencia_inicial, total_inicial = totales_posibles(solucion_inicial,categorias)\n",
    "        if total_inicial not in y:\n",
    "            y.append(total_inicial)\n",
    "            x.append(audiencia_inicial)\n",
    "            soluciones.append(solucion_inicial)\n",
    "        for i,e_i in enumerate(solucion_inicial[:-1]):\n",
    "            intercambios = [e_i]\n",
    "            indices = []\n",
    "            for j,e_j in enumerate(solucion_inicial[i+1:]):\n",
    "                if e_j not in intercambios:\n",
    "                    intercambios.append(e_j)\n",
    "                    indices.append(j+i+1)\n",
    "            for indice in indices:\n",
    "                solucion_actual = solucion_inicial.copy()\n",
    "                solucion_actual[i], solucion_actual[indice] = solucion_actual[indice], solucion_actual[i]\n",
    "                audiencia_actual, total_actual = totales_posibles(solucion_actual,categorias)\n",
    "                if total_actual not in y:\n",
    "                    y.append(total_actual)\n",
    "                    x.append(audiencia_actual)\n",
    "                    soluciones.append(solucion_actual)"
   ]
  },
  {
   "cell_type": "code",
   "execution_count": 4,
   "metadata": {
    "id": "sqimXtvJPdc2"
   },
   "outputs": [],
   "source": [
    "# Se realiza una primera búsqueda de soluciones\n",
    "categorias = ['B_A','B_A','C_C','B_A','C_C','B_C','B_B','B_B','B_C','B_B']\n",
    "soluciones, x, y = [], [], []\n",
    "variables_liga(categorias,x,y,soluciones)"
   ]
  },
  {
   "cell_type": "markdown",
   "metadata": {
    "id": "2-xflIVUT69i"
   },
   "source": [
    "Previamente se realizaron algunas pruebas y se guardaron las 3 listas en archivos con extensión .npy, así que se cargarán de nuevo"
   ]
  },
  {
   "cell_type": "code",
   "execution_count": 5,
   "metadata": {
    "id": "SfaDuXNePdc3"
   },
   "outputs": [],
   "source": [
    "soluciones = np.load('test_soluciones.npy')\n",
    "x = np.load('test_x.npy')\n",
    "y = np.load('test_y.npy')\n",
    "soluciones = soluciones.tolist()\n",
    "x = x.tolist()\n",
    "y = y.tolist()"
   ]
  },
  {
   "cell_type": "code",
   "execution_count": 6,
   "metadata": {
    "colab": {
     "base_uri": "https://localhost:8080/",
     "height": 0
    },
    "id": "gbJP4RbFSI8k",
    "outputId": "efbe0bcc-dca9-4a97-f16a-f460cec9eb4d"
   },
   "outputs": [
    {
     "data": {
      "text/plain": [
       "133679"
      ]
     },
     "execution_count": 6,
     "metadata": {},
     "output_type": "execute_result"
    }
   ],
   "source": [
    "len(y)"
   ]
  },
  {
   "cell_type": "code",
   "execution_count": 61,
   "metadata": {
    "colab": {
     "base_uri": "https://localhost:8080/",
     "height": 0
    },
    "id": "OTcbLLO7Pdc2",
    "outputId": "49ad9d59-a214-4dc8-b2af-b7b35cc76364"
   },
   "outputs": [
    {
     "name": "stdout",
     "output_type": "stream",
     "text": [
      "134104 134104 134104\n"
     ]
    }
   ],
   "source": [
    "# Se guarda la longitud de y, vuelve a buscar soluciones válidas y guardar en otra variable la nueva longitud\n",
    "m = len(y)\n",
    "variables_liga(categorias,x,y,soluciones)\n",
    "p = len(y)\n",
    "# Mientras ambas longitudes sean diferentes (se sigan encontrando soluciones), se ejecuta la función\n",
    "while m != p:\n",
    "  m = len(y)\n",
    "  variables_liga(categorias,x,y,soluciones)\n",
    "  p = len(y)\n",
    "print(len(y),len(soluciones),len(x))"
   ]
  },
  {
   "cell_type": "markdown",
   "metadata": {
    "id": "LzyO0bEtuJhy"
   },
   "source": [
    "Luego de cada actualización en las listas se guardan nuevamente en los archivos"
   ]
  },
  {
   "cell_type": "code",
   "execution_count": 62,
   "metadata": {
    "colab": {
     "base_uri": "https://localhost:8080/",
     "height": 0
    },
    "id": "z0NGjRtkPdc3",
    "outputId": "ddf860d0-7fac-4d13-9813-e6a43b45a20b"
   },
   "outputs": [
    {
     "name": "stdout",
     "output_type": "stream",
     "text": [
      "134104\n"
     ]
    }
   ],
   "source": [
    "a = np.array(soluciones)\n",
    "b = np.array(x)\n",
    "c = np.array(y)\n",
    "np.save('test_soluciones.npy', a)\n",
    "np.save('test_x.npy', b)\n",
    "np.save('test_y.npy', c)\n",
    "print(len(c))"
   ]
  },
  {
   "cell_type": "markdown",
   "metadata": {
    "id": "3FJHnzWDPdc3"
   },
   "source": [
    "Luego de encontrar todas las soluciones válidas (soluciones cuya audiencia total no se repita) se grafica para entender el comportamiento entre las soluciones encontradas al problema."
   ]
  },
  {
   "cell_type": "code",
   "execution_count": 64,
   "metadata": {
    "colab": {
     "base_uri": "https://localhost:8080/",
     "height": 545
    },
    "id": "zcQHzJMiZnC_",
    "outputId": "26102dbf-41b3-40e8-9890-b882004abf64"
   },
   "outputs": [
    {
     "data": {
      "image/png": "[encoded data removed]",
      "text/plain": [
       "<Figure size 800x600 with 1 Axes>"
      ]
     },
     "metadata": {},
     "output_type": "display_data"
    }
   ],
   "source": [
    "plt.plot(x, y, 'o')\n",
    "plt.ylim([0,8])\n",
    "plt.title('inputs (x) vs targets (y)')\n",
    "plt.grid()\n",
    "plt.gcf().set_size_inches((8,6))\n",
    "plt.show()"
   ]
  },
  {
   "cell_type": "markdown",
   "metadata": {
    "id": "Kxl0PbChPdc4"
   },
   "source": [
    "Debido a que los elementos de *x* son listas, se obtuvo el comportamiento extraño que se observa en la gráfica, entonces se toma la media para cada lista aprovechando que el elemento_i de *y* en realidad es la suma de la lista_i que contiene a *x* y la media consiste en dividir dicha suma entre el número de elementos de la lista_i. Adicionalmente, se ordenan los elementos de *x* y los elementos de *y*."
   ]
  },
  {
   "cell_type": "code",
   "execution_count": 65,
   "metadata": {
    "id": "2ZmGSlrlPdc4"
   },
   "outputs": [],
   "source": [
    "y_sort = np.array(sorted(y))\n",
    "x_sort = np.array([round(np.mean(x_i),7) for x_i in x])\n",
    "x_sort.sort()"
   ]
  },
  {
   "cell_type": "markdown",
   "metadata": {
    "id": "a8W7D_nsPdc5"
   },
   "source": [
    "Teniendo los valores de *x* y *y* definidos correctamente se aplica el método del descenso de gradiente a la regresión lineal para encontrar la función objetivo. Primeramente se definen algunas funciones necesarias"
   ]
  },
  {
   "cell_type": "code",
   "execution_count": 66,
   "metadata": {
    "id": "FGjv-OYjPdc5"
   },
   "outputs": [],
   "source": [
    "def plot(x,y,y_):\n",
    "    ''' Gráfica de la función objetivo '''\n",
    "    plt.plot(x,y,'o', label='real')\n",
    "    plt.plot(x,y_, label='prediccion')\n",
    "    plt.legend()\n",
    "    plt.show()\n",
    "\n",
    "def MSE(y,y_):\n",
    "    ''' Cálculo del error cuadrático medio '''\n",
    "    return np.sum((y - y_)**2)/n\n",
    "\n",
    "def gradientes(x,y,y_):\n",
    "    ''' Derivadas parciales respecto a w0 y w1 '''\n",
    "    D_w0 = -2*np.sum((y-y_))/n\n",
    "    D_w1 = -2*np.sum(x*(y-y_))/n\n",
    "    return D_w1, D_w0\n",
    "\n",
    "def desc_grad(x,y,w0,w1,alpha,steps,tol):\n",
    "    ''' Implementación del descnso de gradiente sobre la regresión lineal '''\n",
    "    for _ in range(steps):\n",
    "        y_ = w0 + w1*x\n",
    "        mse = MSE(y,y_)\n",
    "        D_w1, D_w0 = gradientes(x,y,y_)\n",
    "        w0 = w0 - D_w0*alpha\n",
    "        w1 = w1 - D_w1*alpha\n",
    "        if mse < tol: break\n",
    "    return mse, w0, w1, y_"
   ]
  },
  {
   "cell_type": "code",
   "execution_count": 67,
   "metadata": {
    "colab": {
     "base_uri": "https://localhost:8080/",
     "height": 499
    },
    "id": "YDYTQ5BBPdc5",
    "outputId": "79f8dd05-df3a-486d-9bfb-b1261d04fdce"
   },
   "outputs": [
    {
     "data": {
      "image/png": "[encoded data removed]",
      "text/plain": [
       "<Figure size 640x480 with 1 Axes>"
      ]
     },
     "metadata": {},
     "output_type": "display_data"
    },
    {
     "name": "stdout",
     "output_type": "stream",
     "text": [
      "mse = 9.997651991074725e-16\n",
      "w0 = 1.3114977716951519e-07\n",
      "w1 = 9.999999700563023\n",
      "La función objetivo es y=0.00+10.00x\n"
     ]
    }
   ],
   "source": [
    "n = len(y_sort)\n",
    "w0 = random.random()\n",
    "w1 = random.random()\n",
    "mse, w0, w1, y_ = desc_grad(x_sort, y_sort, w0, w1, alpha=0.01, steps=200000, tol=1e-15)\n",
    "plot(x_sort,y_sort,y_)\n",
    "print(f'''mse = {mse}\n",
    "w0 = {w0}\n",
    "w1 = {w1}''')\n",
    "print(f'La función objetivo es y={w0:.2f}+{w1:.2f}x')\n"
   ]
  },
  {
   "cell_type": "markdown",
   "metadata": {
    "id": "icg5esZLPdc6"
   },
   "source": [
    "Se obtuvo que la función objetivo es $y = 1.3⋅10^{-07} + 9.9 ⋅ x$\n",
    "\n",
    "---"
   ]
  },
  {
   "cell_type": "markdown",
   "metadata": {
    "id": "rlnTYgY1j6I2"
   },
   "source": [
    "**Diseña un algoritmo para resolver el problema por fuerza bruta**"
   ]
  },
  {
   "cell_type": "markdown",
   "metadata": {
    "id": "WD3UtVrkPdc6"
   },
   "source": [
    "*Respuesta*\n",
    "\n",
    "Entendiendo las restricciones ya mencionadas, para resolver el problema se toma como referencia la lista de horarios <p><center>horario_dias = ['V20', 'L20', 'S12', 'S16', 'S18', 'S20', 'D12', 'D16', 'D18', 'D20']</center></p>\n",
    "Así, para diseñar el algoritmo de resolución por fuerza bruta se parte con una solución que consiste en la lista cuyos primer y segundo elementos son 'V20' y 'L20', respectivamente, debido a la restricción que indica que dichos horarios deben estar presentes 1 vez; a partir de allí, se toma el primer elemento siguiente de horario_dias ('S12') para el resto de la lista, quedando así: <p><center>horarios = ['V20', 'L20', 'S12', 'S12', 'S12', 'S12', 'S12', 'S12', 'S12', 'S12']</center></p>\n",
    "\n",
    "Ahora, el último elemento de la lista *horarios* se cambia en cada iteración por el elemento siguiente de *horario_dias*, entonces las primeras soluciones encontradas serían:\n",
    "\n",
    "['V20', 'L20', 'S12', 'S12', 'S12', 'S12', 'S12', 'S12', 'S12', 'S12']<br>\n",
    "['V20', 'L20', 'S12', 'S12', 'S12', 'S12', 'S12', 'S12', 'S12', 'S16']<br>\n",
    "['V20', 'L20', 'S12', 'S12', 'S12', 'S12', 'S12', 'S12', 'S12', 'S18']<br>\n",
    "['V20', 'L20', 'S12', 'S12', 'S12', 'S12', 'S12', 'S12', 'S12', 'S20']<br>\n",
    "['V20', 'L20', 'S12', 'S12', 'S12', 'S12', 'S12', 'S12', 'S12', 'D12']<br>\n",
    "['V20', 'L20', 'S12', 'S12', 'S12', 'S12', 'S12', 'S12', 'S12', 'D16']<br>\n",
    "['V20', 'L20', 'S12', 'S12', 'S12', 'S12', 'S12', 'S12', 'S12', 'D18']<br>\n",
    "['V20', 'L20', 'S12', 'S12', 'S12', 'S12', 'S12', 'S12', 'S12', 'D20']<br>\n",
    "\n",
    "Luego de haber pasado por todos los elementos de *horario_dias*, el penúltimo elemento de la lista *horarios* cambia por el elemento que le sigue en *horario_dias*, así: ['V20', 'L20', 'S12', 'S12', 'S12', 'S12', 'S12', 'S12', 'S16', 'S12'] y repite el paso anterior, realizándolo a lo largo de toda la lista *horarios* hasta obtener la solución ['V20', 'L20', 'D20', 'D20', 'D20', 'D20', 'D20', 'D20', 'D20', 'D20'], momento en que 'L20' se mueve al siguiente índice y se repiten los pasos anteriores. Cuando dicho elemento se posicione en el último índice, 'V20' se mueve al índice siguiente a su posición actual y nuevamente repite los pasos anteriores hasta haber recorrido toda la lista.\n",
    "\n",
    "Se aclara que en cada movimiento de los horarios 'V20' y 'L20' el algoritmo crea una lista con los índices \"libres\" para respetar la posición de estos elementos. Adicionalmente, con cada solución encontrada se comprueba si es mayor o igual a la mejor solución, si es así, entonces se convertirá en la mejor; dicha comprobación se realiza con otra función que acompaña al algoritmo que mejora a este. El algoritmo por fuerza bruta es el siguiente."
   ]
  },
  {
   "cell_type": "code",
   "execution_count": null,
   "metadata": {
    "id": "CJb5sQ0qkENy"
   },
   "outputs": [],
   "source": [
    "def liga_fuerza_bruta(categorias):\n",
    "    # Inicializa la mejor solución y el mejor total\n",
    "    mejor_solucion = []\n",
    "    mejor_total = 0\n",
    "    # Toma una solución de referencia con todos los horarios disponibles\n",
    "    horario_dias = ['V20','L20','S12','S16','S18','S20','D12','D16','D18','D20']\n",
    "    # La solución guardada inicia siendo una copia de la solución de referencia\n",
    "    horarios = horario_dias.copy()\n",
    "    n = len(horario_dias)\n",
    "\n",
    "    # Ubica los horarios 'V20' y 'L20' a partir de una lista de índices disponibles\n",
    "    for i in range(n):\n",
    "        indices_seleccion = list(range(n))\n",
    "        horarios[i] = horario_dias[0]\n",
    "        indices_seleccion.remove(i)\n",
    "        for j in indices_seleccion:\n",
    "            nuevo_indices = indices_seleccion.copy()\n",
    "            horarios[j] = horario_dias[1]\n",
    "            nuevo_indices.remove(j)\n",
    "            my_vars = [2 for _ in range(n-2)]\n",
    "            # Con la lista de índices resultante se ubican los horarios restantes\n",
    "            # acorde a la descripción dada para el algortimo\n",
    "            while my_vars[0] < n:\n",
    "                for k,indice in enumerate(nuevo_indices):\n",
    "                    horarios[indice] = horario_dias[my_vars[k]]\n",
    "                my_vars[-1] += 1\n",
    "                if my_vars[-1] == n:\n",
    "                    my_vars[-1] = 2\n",
    "                    my_vars[-2] += 1\n",
    "                if my_vars[-2] == n:\n",
    "                    my_vars[-2] = 2\n",
    "                    my_vars[-3] += 1\n",
    "                if my_vars[-3] == n:\n",
    "                    my_vars[-3] = 2\n",
    "                    my_vars[-4] += 1\n",
    "                if my_vars[-4] == n:\n",
    "                    my_vars[-4] = 2\n",
    "                    my_vars[-5] += 1\n",
    "                if my_vars[-5] == n:\n",
    "                    my_vars[-5] = 2\n",
    "                    my_vars[-6] += 1\n",
    "                if my_vars[-6] == n:\n",
    "                    my_vars[-6] = 2\n",
    "                    my_vars[-7] += 1\n",
    "                if my_vars[-7] == n:\n",
    "                    my_vars[-7] = 2\n",
    "                    my_vars[-8] += 1\n",
    "                # Evalúa si la audiencia total es mayor al mejor total\n",
    "                _, total_actual = totales_posibles(horarios,categorias)\n",
    "                if total_actual >= mejor_total:\n",
    "                    mejor_total = total_actual\n",
    "                    mejor_solucion = horarios\n",
    "\n",
    "    print('La mejor solución es', mejor_solucion)\n",
    "    return mejor_total"
   ]
  },
  {
   "cell_type": "markdown",
   "metadata": {
    "id": "tgrnsC2nkFa8"
   },
   "source": [
    "**Calcula la complejidad del algoritmo por fuerza bruta**"
   ]
  },
  {
   "cell_type": "markdown",
   "metadata": {
    "id": "3yfg_DnYPdc7"
   },
   "source": [
    "*Respuesta*\n",
    "\n",
    "El algoritmo anterior es una modificación de la siguiente función, que fue el punto de partida para el algoritmo resultante.\n",
    "\n",
    "```\n",
    "def liga_fuerza_bruta():\n",
    "    horario_dias = ['V20','L20','S12','S16','S18','S20','D12','D16','D18','D20']\n",
    "    candidatos_solucion = []\n",
    "    n = len(horario_dias)\n",
    "    horarios = horario_dias.copy()\n",
    "    for i in range(n):\n",
    "        horarios[i] = horario_dias[0]\n",
    "        for j in range(n):\n",
    "            if j == i: continue\n",
    "            horarios[j] = horario_dias[1]\n",
    "            for hora1 in horario_dias[2:]:\n",
    "                k = 0\n",
    "                while k == i or k == j: k += 1\n",
    "                horarios[k] = hora1\n",
    "                h1_i = k\n",
    "                k += 1\n",
    "                for hora2 in horario_dias[2:]:\n",
    "                    k = 0\n",
    "                    while k == i or k == j or k == h1_i: k += 1\n",
    "                    horarios[k] = hora2\n",
    "                    h2_i = k\n",
    "                    k += 1\n",
    "                    for hora3 in horario_dias[2:]:\n",
    "                        k = 0\n",
    "                        while k == i or k == j or k == h2_i: k += 1\n",
    "                        horarios[k] = hora3\n",
    "                        h3_i = k\n",
    "                        k += 1\n",
    "                        for hora4 in horario_dias[2:]:\n",
    "                            k = 0\n",
    "                            while k == i or k == j or k == h3_i: k += 1\n",
    "                            horarios[k] = hora4\n",
    "                            h4_i = k\n",
    "                            k += 1\n",
    "                            for hora5 in horario_dias[2:]:\n",
    "                                k = 0\n",
    "                                while k == i or k == j or k == h4_i: k += 1\n",
    "                                horarios[k] = hora5\n",
    "                                h5_i = k\n",
    "                                k += 1\n",
    "                                for hora6 in horario_dias[2:]:\n",
    "                                    k = 0\n",
    "                                    while k == i or k == j or k == h5_i: k += 1\n",
    "                                    horarios[k] = hora6\n",
    "                                    h6_i = k\n",
    "                                    k += 1\n",
    "                                    for hora7 in horario_dias[2:]:\n",
    "                                        k = 0\n",
    "                                        while k == i or k == j or k == h6_i: k += 1\n",
    "                                        horarios[k] = hora7\n",
    "                                        k += 1\n",
    "                                        for hora8 in horario_dias[2:]:\n",
    "                                            while k == i or k == j: k += 1\n",
    "                                            horarios[k] = hora8\n",
    "                                            candidatos_solucion.append(horarios.copy())\n",
    "```"
   ]
  },
  {
   "cell_type": "markdown",
   "metadata": {
    "id": "UV5Px5jRPdc7"
   },
   "source": [
    "A pesar de ser una modificación, ambos siguen la misma lógica descrita, con lo cual, para el cálculo de la complejidad del algoritmo por fuerza bruta se toma como referencia esta función. Entonces, el número de operaciones es $n(n-1)[(n-2)^{n-2}]$, donde $n$ es la longitud que tomaría una lista que es solución, con lo cual, para una aproximación de $n$ a infinito, la complejidad será $$O(n^{n})$$\n",
    "\n",
    "___"
   ]
  },
  {
   "cell_type": "markdown",
   "metadata": {
    "id": "txbrmLmskReM"
   },
   "source": [
    "**Diseña un algoritmo que mejore la complejidad del algortimo por fuerza bruta. Argumenta porque crees que mejora el algoritmo por fuerza bruta**"
   ]
  },
  {
   "cell_type": "markdown",
   "metadata": {
    "id": "msu9YXvMPdc8"
   },
   "source": [
    "*Respuesta*\n",
    "\n",
    "El algoritmo que mejora la coplejidad del algoritmo por fuerza bruta consiste en una función *solve_liga* basada en el algoritmo de búsqueda local, cuyo algoritmo es el siguiente:\n",
    "\n",
    "**Búsqueda Local**\n",
    "```\n",
    "genera(solucion_inicial)\n",
    "solucion_actual = solucion_inicial\n",
    "mejor_solucion = solucion_actual\n",
    "while True:\n",
    "    solucion_vecina = genera_vecino(solucion_actual)\n",
    "    if acepta(solucion_vecina):\n",
    "        solucion_actual = solucion_vecina\n",
    "    if objetivo(solucino_actual) > objetivo(mejor_solucion):\n",
    "        mejor_solucion = solucion_actual\n",
    "    if (criterio parada): break\n",
    "```\n",
    "\n",
    " La función diseñada toma una mejor solución como una lista vacía, asociada a un mejor total igual a 0; luego, en una cantidad *n* de iteraciones máximas, realiza lo siguiente:\n",
    " 1. Crear una solución aleatoria.\n",
    " 2. Evalúa si la audiencia total para esa solución es mayor o igual al mejor total.\n",
    " 3. Si es así, entonces este se convierte en el mejor total y su respectiva solución en la mejor solución.\n",
    " 4. Con la solución actual se crea vecinos intercambiando parejas entre elementos que sean diferentes.\n",
    " 5. Repite pasos 2 y 3.\n",
    "\n",
    "Nota: Para algunas soluciones su audiencia total resultan iguales al aproximar una de ellas, por ejemplo,\n",
    "\n",
    "- solucion: ['V20', 'L20', 'S12', 'S12', 'S12', 'S12', 'S12', 'S12', 'S12', 'S16']\n",
    "  - total: 2.34034\n",
    "- solucion: ['V20', 'L20', 'S12', 'S12', 'S12', 'S12', 'S12', 'S16', 'S12', 'S12']\n",
    "  - total: 2.3403400000000003 aproximadamente igual a 2.34034\n",
    "\n",
    "Además, el mayor número de decimales en la audiencia total que puede tener una solución es seis, como la siguiente:\n",
    "- solucion: ['V20', 'L20', 'S16', 'S12', 'S12', 'S12', 'S12', 'S12', 'S12', 'S16']\n",
    "  - total: 2.456375\n",
    "\n",
    "Entonces, para el cálculo de la audiencia total se utilizará la función `round()` a 6 decimales."
   ]
  },
  {
   "cell_type": "code",
   "execution_count": 88,
   "metadata": {
    "id": "m1eyM21Vkabg"
   },
   "outputs": [],
   "source": [
    "def crear_solucion():\n",
    "    '''Crea una solución aleatoria entre los horarios disponibles para el conjunto de partidos\n",
    "       y la guarda en una lista'''\n",
    "\n",
    "    # Solución de referencia que posee todos los horarios disponibles para los partidos\n",
    "    horario_dias = ['V20','L20','S12','S16','S18','S20','D12','D16','D18','D20']\n",
    "    # La solución retornada inicia siendo una copia de la solución de referencia\n",
    "    horarios = horario_dias.copy()\n",
    "    indices_seleccion = list(range(len(horarios))) # Lista con los índices disponibles para la lista horarios\n",
    "    # Se ubican aleatoriamente 'V20' y 'L20' y se remueven ambos índices\n",
    "    for i in range(2):\n",
    "        indice = random.choice(indices_seleccion)\n",
    "        horarios[indice] = horario_dias[i]\n",
    "        indices_seleccion.remove(indice)\n",
    "    # Se toman aleatoriamente los demás elementos de horario_dias y se van ubicando en los índices restantes\n",
    "    for i_seleccion in indices_seleccion:\n",
    "        horario = random.choice(horario_dias[2:])\n",
    "        horarios[i_seleccion] = horario\n",
    "    return horarios\n",
    "\n",
    "def totales_posibles(solucion,categorias):\n",
    "    '''Crea una lista con la audiencia total para cada horario de la solución aleatoria creada.\n",
    "       Toma la lista de categorías del problema y la solución generada'''\n",
    "\n",
    "    # Crea una lista con la audiencia base para cada categoría\n",
    "    categoria_audiencia = {'A_A':2,'B_A':1.3,'C_A':1,'B_B':0.9,'C_B':0.75,'C_C':0.47}\n",
    "    audiencia_base = []\n",
    "    for categoria in categorias:\n",
    "        audiencia_base.append(categoria_audiencia[categoria])\n",
    "    # Factor de audiencia para cada horario disponible\n",
    "    ponderacion = {'V20':0.4, 'L20':0.4, 'S12':0.55, 'S16':0.7, 'S18':0.8, 'S20':1, 'D12':0.45, 'D16':0.75, 'D18':0.85, 'D20':1}\n",
    "    # Porcentaje restado por cada coincidencia entre horarios\n",
    "    coincidencias = [0, 0.25, 0.45, 0.60, 0.70, 0.75, 0.78, 0.80]\n",
    "    totales = []\n",
    "    # Por cada horario presente en la solución se calcula su audiencia acorde a los factores correspondientes\n",
    "    # y se añade a la lista de totales\n",
    "    for i,hora_i in enumerate(solucion):\n",
    "        coincidencia = solucion.count(hora_i) - 1\n",
    "        audiencia = audiencia_base[i] * ponderacion[hora_i] * (1 - coincidencias[coincidencia])\n",
    "        totales.append(round(audiencia,6))\n",
    "    # Cálculo de la audiencia total para la lista totales\n",
    "    total_audiencia = audiencia_total(totales)\n",
    "    return totales, total_audiencia\n",
    "\n",
    "def audiencia_total(totales):\n",
    "  '''Calcula la suma total de audiencia para una solución encontrada.\n",
    "     Toma la lista de audiencias totales correspondientes a los horarios de la solución'''\n",
    "  return round(sum(totales),6)\n",
    "\n",
    "\n",
    "def solve_liga(categorias,n):\n",
    "    '''Encuentra una aproximación a la solución óptima para el problema de la máxima\n",
    "       audiencia en un conjunto de partidos definido.\n",
    "       Toma la lista de categorías del problema y un número n de iteraciones'''\n",
    "\n",
    "    # Inicialización de la mejor solución y mejor total\n",
    "    mejor_solucion = []\n",
    "    mejor_total = 0\n",
    "    for _ in range(n):\n",
    "        # Crea una solución inicial y guarda su audiencia total\n",
    "        solucion_actual = crear_solucion()\n",
    "        _, total_actual = totales_posibles(solucion_actual,categorias)\n",
    "        # Si la audiencia total es mayor o igual al mejor total, se guardan como el mejor total\n",
    "        # y la mejor solución\n",
    "        if total_actual >= mejor_total:\n",
    "            mejor_solucion = solucion_actual\n",
    "            mejor_total = total_actual\n",
    "        # Para cada elemento de la lista solución\n",
    "        # realiza pares de intercambios con los elementos restantes siguientes\n",
    "        for i,e_i in enumerate(solucion_actual[:-1]):\n",
    "            intercambios = [e_i]\n",
    "            indices = []\n",
    "            for j,e_j in enumerate(solucion_actual[i+1:]):\n",
    "                if e_j not in intercambios:\n",
    "                    intercambios.append(e_j)\n",
    "                    indices.append(j+i+1)\n",
    "            # Cada intercambio realizado es un vecino de la solución inicial\n",
    "            for indice in indices:\n",
    "                solucion_vecino = solucion_actual.copy()\n",
    "                solucion_vecino[i], solucion_vecino[indice] = solucion_vecino[indice], solucion_vecino[i]\n",
    "                _, total_vecino = totales_posibles(solucion_vecino,categorias)\n",
    "                # Evalúa si la audiencia total del vecino es mayor o igual al mejor total\n",
    "                if total_vecino >= mejor_total:\n",
    "                    mejor_total = total_vecino\n",
    "                    mejor_solucion = solucion_vecino\n",
    "\n",
    "    print('La mejor solución es', mejor_solucion)\n",
    "    return mejor_total"
   ]
  },
  {
   "cell_type": "markdown",
   "metadata": {
    "id": "7uzab9jPxxw9"
   },
   "source": [
    "Esta función mejora el algoritmo por fuerza bruta gracias a que tiene una complejidad computacional menor (se abordará en la siguiente pregunta) teniendo un tiempo de ejeción significativamente menor y proporcional al valor que se introduzca para el número de iteaciones. Se trató de ejecutar el algoritmo por fuerza bruta, pero luego de 4 horas no logró finalizar y se decidió detener la ejecución. A continuación se ilustra el tiempo de ejecución para la presente función."
   ]
  },
  {
   "cell_type": "code",
   "execution_count": 70,
   "metadata": {
    "colab": {
     "base_uri": "https://localhost:8080/",
     "height": 0
    },
    "id": "tXO10F2my9Is",
    "outputId": "4d93f5fa-8396-4126-dc1e-2ae9934efcb6"
   },
   "outputs": [
    {
     "name": "stdout",
     "output_type": "stream",
     "text": [
      "La mejor solución es ['S20', 'D20', 'V20', 'D18', 'L20', 'D16', 'S12', 'S16', 'D16', 'S18']\n",
      "Mejor total: 6.76975\n",
      "Tiempo de ejecución: 6.244424819946289\n",
      "\n",
      "La mejor solución es ['D20', 'S20', 'L20', 'D18', 'D12', 'S12', 'S16', 'S18', 'D16', 'V20']\n",
      "Mejor total: 6.7895\n",
      "Tiempo de ejecución: 6.051505088806152\n",
      "\n",
      "La mejor solución es ['S20', 'D18', 'L20', 'D20', 'D12', 'V20', 'S16', 'S18', 'S12', 'D16']\n",
      "Mejor total: 6.842\n",
      "Tiempo de ejecución: 5.522828578948975\n",
      "\n",
      "La mejor solución es ['S20', 'D18', 'D12', 'D20', 'V20', 'S18', 'S12', 'S16', 'L20', 'D16']\n",
      "Mejor total: 6.8045\n",
      "Tiempo de ejecución: 6.637690544128418\n",
      "\n",
      "La mejor solución es ['D20', 'S16', 'L20', 'D18', 'V20', 'S12', 'D16', 'S18', 'D12', 'S20']\n",
      "Mejor total: 6.736\n",
      "Tiempo de ejecución: 5.3682701587677\n",
      "\n",
      "La mejor solución es ['D18', 'D20', 'V20', 'S20', 'L20', 'D12', 'D16', 'S12', 'S16', 'S18']\n",
      "Mejor total: 6.8335\n",
      "Tiempo de ejecución: 6.731936931610107\n",
      "\n",
      "La mejor solución es ['S20', 'D20', 'S12', 'D16', 'V20', 'L20', 'S18', 'S16', 'D12', 'D18']\n",
      "Mejor total: 6.774\n",
      "Tiempo de ejecución: 5.4081871509552\n",
      "\n",
      "La mejor solución es ['D20', 'D18', 'D12', 'S20', 'L20', 'V20', 'S18', 'S16', 'S12', 'D16']\n",
      "Mejor total: 6.842\n",
      "Tiempo de ejecución: 7.269785642623901\n",
      "\n",
      "La mejor solución es ['S20', 'D20', 'D12', 'D18', 'L20', 'S12', 'V20', 'D16', 'S18', 'S16']\n",
      "Mejor total: 6.782\n",
      "Tiempo de ejecución: 5.400480031967163\n",
      "\n",
      "La mejor solución es ['D18', 'S20', 'V20', 'D20', 'S12', 'S18', 'S16', 'D12', 'L20', 'D16']\n",
      "Mejor total: 6.7615\n",
      "Tiempo de ejecución: 6.742917537689209\n",
      "\n"
     ]
    }
   ],
   "source": [
    "categorias = ['B_A','B_A','C_C','B_A','C_C','B_C','B_B','B_B','B_C','B_B']\n",
    "for _ in range(10):\n",
    "    inicio = time.time()\n",
    "    print('Mejor total:',solve_liga(categorias,10000))\n",
    "    fin = time.time()\n",
    "    print('Tiempo de ejecución:',fin-inicio)\n",
    "    print()"
   ]
  },
  {
   "cell_type": "markdown",
   "metadata": {
    "id": "dBdWHrtQzmmO"
   },
   "source": [
    "Entre los resultados retornados por la función, el total de audiencia máximo encontrado es 6.842 millones de aficionados. Aprovechando la ejecución anterior y que el último elemento de la lista `y_sort` corresponde con la máxima audiencia total encontrada, la siguiente tabla muestra la distribución de horarios que mejor se adapta al objetivo del problema y se comparará con mejor resultado obtenido por la función."
   ]
  },
  {
   "cell_type": "code",
   "execution_count": 83,
   "metadata": {
    "colab": {
     "base_uri": "https://localhost:8080/",
     "height": 398
    },
    "id": "cVIXqk1J1A1J",
    "outputId": "556f4545-bf06-40c1-d244-9e2c1bf26da5"
   },
   "outputs": [
    {
     "name": "stdout",
     "output_type": "stream",
     "text": [
      "La máxima audiencia total que se puede lograr es 6.856 millones de personas\n",
      "\n"
     ]
    },
    {
     "data": {
      "text/html": [
       "\n",
       "\n",
       "  <div id=\"df-4380103e-4acd-48bc-9c49-5fbaf0cde0b5\">\n",
       "    <div class=\"colab-df-container\">\n",
       "      <div>\n",
       "<style scoped>\n",
       "    .dataframe tbody tr th:only-of-type {\n",
       "        vertical-align: middle;\n",
       "    }\n",
       "\n",
       "    .dataframe tbody tr th {\n",
       "        vertical-align: top;\n",
       "    }\n",
       "\n",
       "    .dataframe thead th {\n",
       "        text-align: right;\n",
       "    }\n",
       "</style>\n",
       "<table border=\"1\" class=\"dataframe\">\n",
       "  <thead>\n",
       "    <tr style=\"text-align: right;\">\n",
       "      <th></th>\n",
       "      <th>Equipos</th>\n",
       "      <th>Categorias</th>\n",
       "      <th>Horario</th>\n",
       "      <th>Audiencia</th>\n",
       "    </tr>\n",
       "  </thead>\n",
       "  <tbody>\n",
       "    <tr>\n",
       "      <th>0</th>\n",
       "      <td>Celta - Real Madrid</td>\n",
       "      <td>B_A</td>\n",
       "      <td>D18</td>\n",
       "      <td>1.1050</td>\n",
       "    </tr>\n",
       "    <tr>\n",
       "      <th>1</th>\n",
       "      <td>Valencia - R. Sociedad</td>\n",
       "      <td>B_A</td>\n",
       "      <td>S20</td>\n",
       "      <td>1.3000</td>\n",
       "    </tr>\n",
       "    <tr>\n",
       "      <th>2</th>\n",
       "      <td>Mallorca - Eibar</td>\n",
       "      <td>C_C</td>\n",
       "      <td>L20</td>\n",
       "      <td>0.1880</td>\n",
       "    </tr>\n",
       "    <tr>\n",
       "      <th>3</th>\n",
       "      <td>Athletic - Barcelona</td>\n",
       "      <td>B_A</td>\n",
       "      <td>D20</td>\n",
       "      <td>1.3000</td>\n",
       "    </tr>\n",
       "    <tr>\n",
       "      <th>4</th>\n",
       "      <td>Leganés - Osasuna</td>\n",
       "      <td>C_C</td>\n",
       "      <td>V20</td>\n",
       "      <td>0.1880</td>\n",
       "    </tr>\n",
       "    <tr>\n",
       "      <th>5</th>\n",
       "      <td>Villareal - Granada</td>\n",
       "      <td>B_C</td>\n",
       "      <td>S12</td>\n",
       "      <td>0.4125</td>\n",
       "    </tr>\n",
       "    <tr>\n",
       "      <th>6</th>\n",
       "      <td>Alavés - Levante</td>\n",
       "      <td>B_B</td>\n",
       "      <td>D16</td>\n",
       "      <td>0.6750</td>\n",
       "    </tr>\n",
       "    <tr>\n",
       "      <th>7</th>\n",
       "      <td>Espanyol - Sevilla</td>\n",
       "      <td>B_B</td>\n",
       "      <td>S18</td>\n",
       "      <td>0.7200</td>\n",
       "    </tr>\n",
       "    <tr>\n",
       "      <th>8</th>\n",
       "      <td>Betis - Valladolid</td>\n",
       "      <td>B_C</td>\n",
       "      <td>D12</td>\n",
       "      <td>0.3375</td>\n",
       "    </tr>\n",
       "    <tr>\n",
       "      <th>9</th>\n",
       "      <td>Atlético - Getafe</td>\n",
       "      <td>B_B</td>\n",
       "      <td>S16</td>\n",
       "      <td>0.6300</td>\n",
       "    </tr>\n",
       "  </tbody>\n",
       "</table>\n",
       "</div>\n",
       "      <button class=\"colab-df-convert\" onclick=\"convertToInteractive('df-4380103e-4acd-48bc-9c49-5fbaf0cde0b5')\"\n",
       "              title=\"Convert this dataframe to an interactive table.\"\n",
       "              style=\"display:none;\">\n",
       "\n",
       "  <svg xmlns=\"http://www.w3.org/2000/svg\" height=\"24px\"viewBox=\"0 0 24 24\"\n",
       "       width=\"24px\">\n",
       "    <path d=\"M0 0h24v24H0V0z\" fill=\"none\"/>\n",
       "    <path d=\"M18.56 5.44l.94 2.06.94-2.06 2.06-.94-2.06-.94-.94-2.06-.94 2.06-2.06.94zm-11 1L8.5 8.5l.94-2.06 2.06-.94-2.06-.94L8.5 2.5l-.94 2.06-2.06.94zm10 10l.94 2.06.94-2.06 2.06-.94-2.06-.94-.94-2.06-.94 2.06-2.06.94z\"/><path d=\"M17.41 7.96l-1.37-1.37c-.4-.4-.92-.59-1.43-.59-.52 0-1.04.2-1.43.59L10.3 9.45l-7.72 7.72c-.78.78-.78 2.05 0 2.83L4 21.41c.39.39.9.59 1.41.59.51 0 1.02-.2 1.41-.59l7.78-7.78 2.81-2.81c.8-.78.8-2.07 0-2.86zM5.41 20L4 18.59l7.72-7.72 1.47 1.35L5.41 20z\"/>\n",
       "  </svg>\n",
       "      </button>\n",
       "\n",
       "\n",
       "\n",
       "    <div id=\"df-6d765d4c-215e-400c-991d-af2256d46def\">\n",
       "      <button class=\"colab-df-quickchart\" onclick=\"quickchart('df-6d765d4c-215e-400c-991d-af2256d46def')\"\n",
       "              title=\"Suggest charts.\"\n",
       "              style=\"display:none;\">\n",
       "\n",
       "<svg xmlns=\"http://www.w3.org/2000/svg\" height=\"24px\"viewBox=\"0 0 24 24\"\n",
       "     width=\"24px\">\n",
       "    <g>\n",
       "        <path d=\"M19 3H5c-1.1 0-2 .9-2 2v14c0 1.1.9 2 2 2h14c1.1 0 2-.9 2-2V5c0-1.1-.9-2-2-2zM9 17H7v-7h2v7zm4 0h-2V7h2v10zm4 0h-2v-4h2v4z\"/>\n",
       "    </g>\n",
       "</svg>\n",
       "      </button>\n",
       "    </div>\n",
       "\n",
       "<style>\n",
       "  .colab-df-quickchart {\n",
       "    background-color: #E8F0FE;\n",
       "    border: none;\n",
       "    border-radius: 50%;\n",
       "    cursor: pointer;\n",
       "    display: none;\n",
       "    fill: #1967D2;\n",
       "    height: 32px;\n",
       "    padding: 0 0 0 0;\n",
       "    width: 32px;\n",
       "  }\n",
       "\n",
       "  .colab-df-quickchart:hover {\n",
       "    background-color: #E2EBFA;\n",
       "    box-shadow: 0px 1px 2px rgba(60, 64, 67, 0.3), 0px 1px 3px 1px rgba(60, 64, 67, 0.15);\n",
       "    fill: #174EA6;\n",
       "  }\n",
       "\n",
       "  [theme=dark] .colab-df-quickchart {\n",
       "    background-color: #3B4455;\n",
       "    fill: #D2E3FC;\n",
       "  }\n",
       "\n",
       "  [theme=dark] .colab-df-quickchart:hover {\n",
       "    background-color: #434B5C;\n",
       "    box-shadow: 0px 1px 3px 1px rgba(0, 0, 0, 0.15);\n",
       "    filter: drop-shadow(0px 1px 2px rgba(0, 0, 0, 0.3));\n",
       "    fill: #FFFFFF;\n",
       "  }\n",
       "</style>\n",
       "\n",
       "    <script>\n",
       "      async function quickchart(key) {\n",
       "        const containerElement = document.querySelector('#' + key);\n",
       "        const charts = await google.colab.kernel.invokeFunction(\n",
       "            'suggestCharts', [key], {});\n",
       "      }\n",
       "    </script>\n",
       "\n",
       "      <script>\n",
       "\n",
       "function displayQuickchartButton(domScope) {\n",
       "  let quickchartButtonEl =\n",
       "    domScope.querySelector('#df-6d765d4c-215e-400c-991d-af2256d46def button.colab-df-quickchart');\n",
       "  quickchartButtonEl.style.display =\n",
       "    google.colab.kernel.accessAllowed ? 'block' : 'none';\n",
       "}\n",
       "\n",
       "        displayQuickchartButton(document);\n",
       "      </script>\n",
       "      <style>\n",
       "    .colab-df-container {\n",
       "      display:flex;\n",
       "      flex-wrap:wrap;\n",
       "      gap: 12px;\n",
       "    }\n",
       "\n",
       "    .colab-df-convert {\n",
       "      background-color: #E8F0FE;\n",
       "      border: none;\n",
       "      border-radius: 50%;\n",
       "      cursor: pointer;\n",
       "      display: none;\n",
       "      fill: #1967D2;\n",
       "      height: 32px;\n",
       "      padding: 0 0 0 0;\n",
       "      width: 32px;\n",
       "    }\n",
       "\n",
       "    .colab-df-convert:hover {\n",
       "      background-color: #E2EBFA;\n",
       "      box-shadow: 0px 1px 2px rgba(60, 64, 67, 0.3), 0px 1px 3px 1px rgba(60, 64, 67, 0.15);\n",
       "      fill: #174EA6;\n",
       "    }\n",
       "\n",
       "    [theme=dark] .colab-df-convert {\n",
       "      background-color: #3B4455;\n",
       "      fill: #D2E3FC;\n",
       "    }\n",
       "\n",
       "    [theme=dark] .colab-df-convert:hover {\n",
       "      background-color: #434B5C;\n",
       "      box-shadow: 0px 1px 3px 1px rgba(0, 0, 0, 0.15);\n",
       "      filter: drop-shadow(0px 1px 2px rgba(0, 0, 0, 0.3));\n",
       "      fill: #FFFFFF;\n",
       "    }\n",
       "  </style>\n",
       "\n",
       "      <script>\n",
       "        const buttonEl =\n",
       "          document.querySelector('#df-4380103e-4acd-48bc-9c49-5fbaf0cde0b5 button.colab-df-convert');\n",
       "        buttonEl.style.display =\n",
       "          google.colab.kernel.accessAllowed ? 'block' : 'none';\n",
       "\n",
       "        async function convertToInteractive(key) {\n",
       "          const element = document.querySelector('#df-4380103e-4acd-48bc-9c49-5fbaf0cde0b5');\n",
       "          const dataTable =\n",
       "            await google.colab.kernel.invokeFunction('convertToInteractive',\n",
       "                                                     [key], {});\n",
       "          if (!dataTable) return;\n",
       "\n",
       "          const docLinkHtml = 'Like what you see? Visit the ' +\n",
       "            '<a target=\"_blank\" href=https://colab.research.google.com/notebooks/data_table.ipynb>data table notebook</a>'\n",
       "            + ' to learn more about interactive tables.';\n",
       "          element.innerHTML = '';\n",
       "          dataTable['output_type'] = 'display_data';\n",
       "          await google.colab.output.renderOutput(dataTable, element);\n",
       "          const docLink = document.createElement('div');\n",
       "          docLink.innerHTML = docLinkHtml;\n",
       "          element.appendChild(docLink);\n",
       "        }\n",
       "      </script>\n",
       "    </div>\n",
       "  </div>\n"
      ],
      "text/plain": [
       "                  Equipos Categorias Horario  Audiencia\n",
       "0     Celta - Real Madrid        B_A     D18     1.1050\n",
       "1  Valencia - R. Sociedad        B_A     S20     1.3000\n",
       "2        Mallorca - Eibar        C_C     L20     0.1880\n",
       "3    Athletic - Barcelona        B_A     D20     1.3000\n",
       "4       Leganés - Osasuna        C_C     V20     0.1880\n",
       "5     Villareal - Granada        B_C     S12     0.4125\n",
       "6        Alavés - Levante        B_B     D16     0.6750\n",
       "7      Espanyol - Sevilla        B_B     S18     0.7200\n",
       "8      Betis - Valladolid        B_C     D12     0.3375\n",
       "9       Atlético - Getafe        B_B     S16     0.6300"
      ]
     },
     "execution_count": 83,
     "metadata": {},
     "output_type": "execute_result"
    }
   ],
   "source": [
    "for i in range(len(y)):\n",
    "  _, total = totales_posibles(soluciones[i],categorias)\n",
    "  if total == y_sort[-1]: break\n",
    "horario = soluciones[i]\n",
    "audiencia = x[i]\n",
    "partidos_liga = {'Equipos':['Celta - Real Madrid','Valencia - R. Sociedad','Mallorca - Eibar','Athletic - Barcelona', 'Leganés - Osasuna','Villareal - Granada','Alavés - Levante', 'Espanyol - Sevilla','Betis - Valladolid','Atlético - Getafe'],\n",
    "                 'Categorias':['B_A','B_A','C_C','B_A','C_C','B_C','B_B','B_B','B_C','B_B'],\n",
    "                 'Horario':horario,\n",
    "                 'Audiencia':audiencia}\n",
    "print('La máxima audiencia total que se puede lograr es', round(np.sum(audiencia),6),'millones de personas')\n",
    "print()\n",
    "pd.DataFrame(partidos_liga)"
   ]
  },
  {
   "cell_type": "markdown",
   "metadata": {
    "id": "0TNbKSTQN82p"
   },
   "source": [
    "En las 10 ejecuciones realizadas se obtuvo una buena aproximación a la solución óptima, aunque es posible obtener una aproximación exacta a la misma, ya que las listas utilizadas para el cálculo de la función objetivo emplearon el algoritmo en cuestión.\n",
    "\n",
    "___"
   ]
  },
  {
   "cell_type": "markdown",
   "metadata": {
    "id": "eGDB4K6uk1iN"
   },
   "source": [
    "**Calcula la complejidad del algoritmo**"
   ]
  },
  {
   "cell_type": "markdown",
   "metadata": {
    "id": "NhpTh_BPk1ms"
   },
   "source": [
    "*Respuesta*\n",
    "\n",
    "La función en cuestión ejecuta su algoritmo una cantidad k de iteraciones que se pasen como argumento; dicho algoritmo emplea un `for()` de rango igual a la longitud n que tenga la solución encontrada -1, dentro del cual se ejecuta otro `for()` con rango <= el rango anterior -1. Las funciones \"auxiliares\" tienen una complejidad menor, así que son despreciables.\n",
    "\n",
    "En este orden de ideas y para un valor de n próximo a infinito, si tomamos en cuenta la constante multiplicativa, la complejidad computacional del algoritmo es $$O(k⋅n^2)$$\n",
    "\n",
    "___"
   ]
  },
  {
   "cell_type": "markdown",
   "metadata": {
    "id": "3M6QjTsSkmYe"
   },
   "source": [
    "**Según el problema (y tenga sentido), diseña un juego de datos de entrada aleatorios**<br>\n",
    "**Aplica el algoritmo al juego de datos generado**"
   ]
  },
  {
   "cell_type": "markdown",
   "metadata": {
    "id": "Jc3_OlyNkvjZ"
   },
   "source": [
    "*Respuesta*\n",
    "\n",
    "Se tiene en cuenta que son 3 equipos en la categoría A, 11 equipos en la categoría B y 6 equipos en la categoría C"
   ]
  },
  {
   "cell_type": "code",
   "execution_count": 90,
   "metadata": {
    "colab": {
     "base_uri": "https://localhost:8080/",
     "height": 0
    },
    "id": "sJ-N2etjkyWc",
    "outputId": "b4cf9fac-e070-407b-bc2f-f1dde0f7ce89"
   },
   "outputs": [
    {
     "name": "stdout",
     "output_type": "stream",
     "text": [
      "Para la categoría ['C_B', 'C_B', 'B_B', 'C_B', 'C_B', 'B_A', 'B_A', 'B_A', 'C_B', 'C_B']\n",
      "La mejor solución es ['D16', 'S12', 'S18', 'L20', 'S16', 'D18', 'S20', 'D20', 'V20', 'D12']\n",
      "Maxima audiencia total: 6.8625\n"
     ]
    }
   ],
   "source": [
    "categorias_equipos = ['A','A','A','B','B','B','B','B','B','B','B','B','B','B','C','C','C','C','C','C']\n",
    "categorias = []\n",
    "for _ in range(10):\n",
    "    equipo1 = random.choice(categorias_equipos)\n",
    "    categorias_equipos.remove(equipo1)\n",
    "    equipo2 = random.choice(categorias_equipos)\n",
    "    categorias_equipos.remove(equipo2)\n",
    "    if equipo1 >= equipo2:\n",
    "        categorias.append(str(equipo1)+'_'+str(equipo2))\n",
    "    else:\n",
    "        categorias.append(str(equipo2)+'_'+str(equipo1))\n",
    "\n",
    "print('Para la categoría',categorias)\n",
    "print('Maxima audiencia total:',solve_liga(categorias,10000))"
   ]
  },
  {
   "cell_type": "markdown",
   "metadata": {
    "id": "kAkDPUyRtYyH"
   },
   "source": [
    "**Describe brevemente las lineas de como crees que es posible avanzar en el estudio del problema. Ten en cuenta incluso posibles variaciones del problema y/o variaciones al alza del tamaño**"
   ]
  },
  {
   "cell_type": "markdown",
   "metadata": {
    "id": "IE0uZmo-tZu-"
   },
   "source": [
    "*Respuesta*\n",
    "\n",
    "En la solución del problema con las categorías dadas y con un conjuntpo de categorías aleatorio se observa un comportamiento en común, la máxima audiencia total se logra evitando la repetición entre los diferentes horarios, esto es debido al factor que disminuye la audiencia en casos donde se presentan coincidencias. Este resultado puede considerarse en problemas de la misma naturaleza al momento de buscar una solución óptima, inclusive si se busca un mínimo, cuya solución es a partir del máximo número de coincidencias posibles con el horario que tenga menor factor de audiencia."
   ]
  }
 ],
 "metadata": {
  "colab": {
   "provenance": []
  },
  "kernelspec": {
   "display_name": "Python 3 (ipykernel)",
   "language": "python",
   "name": "python3"
  },
  "language_info": {
   "codemirror_mode": {
    "name": "ipython",
    "version": 3
   },
   "file_extension": ".py",
   "mimetype": "text/x-python",
   "name": "python",
   "nbconvert_exporter": "python",
   "pygments_lexer": "ipython3",
   "version": "3.9.13"
  }
 },
 "nbformat": 4,
 "nbformat_minor": 1
}
