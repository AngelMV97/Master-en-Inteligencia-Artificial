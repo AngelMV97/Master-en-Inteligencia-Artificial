{
 "cells": [
  {
   "cell_type": "markdown",
   "id": "5bae1ac7",
   "metadata": {
    "id": "5bae1ac7"
   },
   "source": [
    "<font color=\"#002856\"><h1 align=\"left\">Algoritmos de optimización - RETOS</h1></font>\n",
    "\n",
    "#### Profesor: Juan Francisco Vallalta Rueda \n",
    "#### Alumno: Luis Angel Motta Valero<b>\n",
    "\n",
    "\n",
    "URL: https://drive.google.com/file/d/1JQUDARQqpeYB2pYzMq2OGVNVipJq25Gr/view?usp=sharing<br>\n",
    "GitHub: [03MAIR-Algoritmos-de-Optimizacion](https://github.com/AngelMV97/03MAIR-Algoritmos-de-Optimizacion.git)\n",
    "\n",
    "---"
   ]
  },
  {
   "cell_type": "code",
   "execution_count": 1,
   "id": "22ac9b74",
   "metadata": {
    "id": "22ac9b74"
   },
   "outputs": [],
   "source": [
    "# Importe de las librerías necesarias\n",
    "import time\n",
    "import random\n",
    "import numpy as np\n",
    "import matplotlib.pyplot as plt\n",
    "import math"
   ]
  },
  {
   "cell_type": "markdown",
   "id": "e37d9b38",
   "metadata": {
    "id": "e37d9b38"
   },
   "source": [
    "# Reto VC-1\n",
    "\n",
    "## Implementa el algoritmo de la Criba de Erastótenes para encontrar número primos. Encuentra los números primos entre los 10.000 primeros números naturales"
   ]
  },
  {
   "cell_type": "code",
   "execution_count": null,
   "id": "a3fd4cc4",
   "metadata": {
    "id": "a3fd4cc4"
   },
   "outputs": [],
   "source": [
    "# Criba de Erastótenes\n",
    "def primos(n):\n",
    "    if n < 2: return [] # Un valor n inferior al primer número primo retorna una lista vacía\n",
    "    # Crear una lista desde 2 hasta n (inclusive)\n",
    "    lista = list(range(2,n+1))\n",
    "    for i in range(2,int(math.sqrt(n))): # Para i desde 2 hasta int(raíz cuadrada de n)\n",
    "        for j in lista: # Por cada j en la lista\n",
    "            if j != i:\n",
    "                if j%i == 0: # \"Marcar\" i x j (si j es múltiplo de i)\n",
    "                    lista.remove(j) # Remover de la lista los marcados\n",
    "    return lista"
   ]
  },
  {
   "cell_type": "code",
   "execution_count": null,
   "id": "4ba78d63",
   "metadata": {
    "id": "4ba78d63"
   },
   "outputs": [],
   "source": [
    "# Alternativa a la Criba de Eratostenes\n",
    "\n",
    "# Función que retorna si un número es primo\n",
    "def es_primo(n):\n",
    "    if n < 2: return False # Si n es menor que 2, se sabe que no es un número primo\n",
    "    for i in range(2, n//2+1):\n",
    "        if n % i == 0:\n",
    "            return False\n",
    "    return True\n",
    "\n",
    "# Función que guarda los números primos en una lista\n",
    "def list_primos(n):\n",
    "    n_primos = [i for i in range(n+1) if es_primo(i)]\n",
    "\n",
    "    return n_primos"
   ]
  },
  {
   "cell_type": "code",
   "execution_count": null,
   "id": "29938067",
   "metadata": {
    "colab": {
     "base_uri": "https://localhost:8080/"
    },
    "id": "29938067",
    "outputId": "b6624059-bbde-45fb-ca56-c8539e665ae3"
   },
   "outputs": [
    {
     "name": "stdout",
     "output_type": "stream",
     "text": [
      "Criba de Erastótenes\n",
      "Tiempo de ejecición: 0.4915482997894287\n",
      "Tiempo de ejecición: 0.474285364151001\n",
      "Tiempo de ejecición: 0.45723438262939453\n",
      "Tiempo de ejecición: 0.4561300277709961\n",
      "Tiempo de ejecición: 0.4354994297027588\n",
      "Tiempo de ejecición: 0.34960508346557617\n",
      "Tiempo de ejecición: 0.22472214698791504\n",
      "Tiempo de ejecición: 0.24304580688476562\n",
      "Tiempo de ejecición: 0.2239246368408203\n",
      "Tiempo de ejecición: 0.22642827033996582\n",
      "\n",
      "Alternativa evaluando primo\n",
      "Tiempo de ejecición: 0.26738977432250977\n",
      "Tiempo de ejecición: 0.28812623023986816\n",
      "Tiempo de ejecición: 0.26549649238586426\n",
      "Tiempo de ejecición: 0.2678866386413574\n",
      "Tiempo de ejecición: 0.2704942226409912\n",
      "Tiempo de ejecición: 0.27989792823791504\n",
      "Tiempo de ejecición: 0.2658560276031494\n",
      "Tiempo de ejecición: 0.2642223834991455\n",
      "Tiempo de ejecición: 0.2636871337890625\n",
      "Tiempo de ejecición: 0.27879810333251953\n"
     ]
    }
   ],
   "source": [
    "# Medición del tiempo de ejecución del algoritmo\n",
    "print('Criba de Erastótenes')\n",
    "for _ in range(10):\n",
    "    inicio = time.time()\n",
    "    list_primos(10000)\n",
    "    fin = time.time()\n",
    "    print('Tiempo de ejecición:',fin-inicio)\n",
    "print()\n",
    "print('Alternativa evaluando primo')\n",
    "for _ in range(10):\n",
    "    inicio = time.time()\n",
    "    primos(10000)\n",
    "    fin = time.time()\n",
    "    print('Tiempo de ejecición:',fin-inicio)\n"
   ]
  },
  {
   "cell_type": "markdown",
   "id": "9cbf8561",
   "metadata": {
    "id": "9cbf8561"
   },
   "source": [
    "# Retos VC-2\n",
    "\n",
    "## Implementa una solución al problema de las 8 reinas en un tablero 8x8"
   ]
  },
  {
   "cell_type": "code",
   "execution_count": 2,
   "id": "9a332ce1",
   "metadata": {
    "id": "9a332ce1"
   },
   "outputs": [],
   "source": [
    "def diagonales_disponibles(pos_col, fila, diagonales_ocupadas):\n",
    "    ocupadas_positivas = []\n",
    "    ocupadas_negativas = []\n",
    "    disponibles = []\n",
    "    for diagonal in diagonales_ocupadas:\n",
    "        ocupadas_positivas.append(diagonal[0])\n",
    "        ocupadas_negativas.append(diagonal[1])\n",
    "    for posicion in pos_col:\n",
    "        if (fila+posicion not in ocupadas_positivas) and (fila-posicion not in ocupadas_negativas) :\n",
    "            disponibles.append(posicion)\n",
    "    return disponibles\n",
    "\n",
    "def conflicto_reinas(tablero, pos_col, fila, reina, diagonales_ocupadas):\n",
    "    # i = 0\n",
    "    #\n",
    "    posiciones_posibles = diagonales_disponibles(pos_col, fila, diagonales_ocupadas)\n",
    "    if len(posiciones_posibles) == 0: return tablero, diagonales_ocupadas, reina\n",
    "    else:\n",
    "        while reina not in posiciones_posibles:\n",
    "            reina = random.choice(posiciones_posibles)\n",
    "        tablero[fila,reina] = 1\n",
    "        posicion_reina = (fila+reina, fila-reina) # (diagonal_positiva, diagonal_negativa)\n",
    "        diagonales_ocupadas.append(posicion_reina)\n",
    "    return tablero, diagonales_ocupadas, reina\n",
    "\n",
    "def n_reinas(n):\n",
    "    if 1 < n < 4: raise \"No existe solución para 2 y 3 reinas\"\n",
    "    if n < 1: raise \"Valor no válido\"\n",
    "    if n == 1: return np.array([1])\n",
    "    tablero = np.zeros((n,n), dtype=int) # Se parte con una matriz de ceros (todo el tablero sin reinas)\n",
    "    pos_col = list(range(n)) # Posiciones disponibles por cada columna\n",
    "    fila = 0\n",
    "    diagonales_ocupadas = []\n",
    "    while len(pos_col) > 0:\n",
    "        reina = random.choice(pos_col) # Se escoge la posición de una reina por cada fila\n",
    "        # pos_col_copy = pos_col.copy()\n",
    "        tablero, diagonales_ocupadas, reina = conflicto_reinas(tablero, pos_col, fila, reina, diagonales_ocupadas) # func hace intercambio y revisa las diagonales\n",
    "        if len(diagonales_ocupadas) > fila:\n",
    "            pos_col.remove(reina) # Se elimina esa posición para que no hayan más de una reina por cada columna\n",
    "            fila += 1\n",
    "        else:\n",
    "            tablero = n_reinas(n)\n",
    "            break\n",
    "    return tablero"
   ]
  },
  {
   "cell_type": "code",
   "execution_count": 3,
   "id": "TEb93aguX3Um",
   "metadata": {
    "colab": {
     "base_uri": "https://localhost:8080/"
    },
    "id": "TEb93aguX3Um",
    "outputId": "4ab6fcb3-6f1a-45e3-9ad4-3323a4cbc3dc"
   },
   "outputs": [
    {
     "data": {
      "text/plain": [
       "array([[0, 0, 1, 0, 0, 0, 0, 0],\n",
       "       [0, 0, 0, 0, 0, 0, 0, 1],\n",
       "       [0, 0, 0, 1, 0, 0, 0, 0],\n",
       "       [0, 0, 0, 0, 0, 0, 1, 0],\n",
       "       [1, 0, 0, 0, 0, 0, 0, 0],\n",
       "       [0, 0, 0, 0, 0, 1, 0, 0],\n",
       "       [0, 1, 0, 0, 0, 0, 0, 0],\n",
       "       [0, 0, 0, 0, 1, 0, 0, 0]])"
      ]
     },
     "execution_count": 3,
     "metadata": {},
     "output_type": "execute_result"
    }
   ],
   "source": [
    "n_reinas(8)"
   ]
  },
  {
   "cell_type": "code",
   "execution_count": null,
   "id": "f45294cd",
   "metadata": {
    "colab": {
     "base_uri": "https://localhost:8080/"
    },
    "id": "f45294cd",
    "outputId": "c6e69598-b7cb-40f4-e9ab-f43b1959032f"
   },
   "outputs": [
    {
     "name": "stdout",
     "output_type": "stream",
     "text": [
      "Tiempo de ejecución: 0.0008602142333984375\n",
      "Tiempo de ejecución: 0.011775732040405273\n",
      "Tiempo de ejecución: 0.007190227508544922\n",
      "Tiempo de ejecución: 0.001218557357788086\n",
      "Tiempo de ejecución: 0.0033109188079833984\n",
      "Tiempo de ejecución: 0.002132892608642578\n",
      "Tiempo de ejecución: 0.010490894317626953\n",
      "Tiempo de ejecución: 0.009149789810180664\n",
      "Tiempo de ejecución: 0.004388570785522461\n",
      "Tiempo de ejecución: 0.002001523971557617\n"
     ]
    }
   ],
   "source": [
    "# Medición del tiempo de ejecución del algoritmo\n",
    "for _ in range(10):\n",
    "    inicio = time.time()\n",
    "    n_reinas(20)\n",
    "    fin = time.time()\n",
    "    print('Tiempo de ejecución:',fin-inicio)"
   ]
  },
  {
   "cell_type": "markdown",
   "id": "e0069a3c",
   "metadata": {
    "id": "e0069a3c"
   },
   "source": [
    "## Implementa una solución del problema de las Torres de Hanoi para un número arbitrario n de fichas"
   ]
  },
  {
   "cell_type": "code",
   "execution_count": null,
   "id": "f55c9247",
   "metadata": {
    "id": "f55c9247"
   },
   "outputs": [],
   "source": [
    "# Torres de Hanoy\n",
    "def mover(n,origen,destino,auxiliar):\n",
    "    print(f\"Para {n} bloques, el mínimo número de movimientos es {2**n-1}\")\n",
    "    # si la cantidad de anillos es impar, la pieza inicial irá a destino y, si es par, al auxiliar.\n",
    "    if n > 0:\n",
    "        mover(n,origen,destino,auxiliar)\n",
    "        destino.append(origen.pop())\n",
    "        mover(n,origen,destino,auxiliar)\n",
    "    return origen,destino,auxiliar\n"
   ]
  },
  {
   "cell_type": "code",
   "execution_count": null,
   "id": "f6d6d538",
   "metadata": {
    "colab": {
     "base_uri": "https://localhost:8080/"
    },
    "id": "f6d6d538",
    "outputId": "dfa02eed-379e-499b-97d8-17a25116e9d0"
   },
   "outputs": [
    {
     "name": "stdout",
     "output_type": "stream",
     "text": [
      "Llevar desde 1 hasta 3\n",
      "Llevar desde 1 hasta 2\n",
      "Llevar desde 3 hasta 2\n",
      "Llevar desde 1 hasta 3\n",
      "Llevar desde 2 hasta 1\n",
      "Llevar desde 2 hasta 3\n",
      "Llevar desde 1 hasta 3\n"
     ]
    }
   ],
   "source": [
    "def torres_hanoy(n, origen=1, destino=3):\n",
    "    if n == 1:\n",
    "        print(f\"Llevar desde {origen} hasta {destino}\")\n",
    "    else:\n",
    "        torres_hanoy(n-1, origen, 6-origen-destino)\n",
    "        print(f\"Llevar desde {origen} hasta {destino}\")\n",
    "        torres_hanoy(n-1, 6-origen-destino, destino)\n",
    "\n",
    "torres_hanoy(3,1,3)"
   ]
  },
  {
   "cell_type": "markdown",
   "id": "38f492b2",
   "metadata": {
    "id": "38f492b2"
   },
   "source": [
    "# Reto\n",
    "\n",
    "## Optimización de la función $$\\scriptsize f(x)=\\sin(\\frac{1}{2}x^2 - \\frac{1}{4}y^2 + 3) \\cdot \\cos(2x + 1 - e^y)$$ mediante el algoritmo por descenso del gradiente."
   ]
  },
  {
   "cell_type": "code",
   "execution_count": null,
   "id": "RJqRl85sIqYD",
   "metadata": {
    "id": "RJqRl85sIqYD"
   },
   "outputs": [],
   "source": [
    "import sympy as sym\n",
    "from sympy.plotting import plot, plot3d\n",
    "\n",
    "x,y = sym.symbols('x y')"
   ]
  },
  {
   "cell_type": "code",
   "execution_count": null,
   "id": "cj0SI8t4Hay9",
   "metadata": {
    "id": "cj0SI8t4Hay9"
   },
   "outputs": [],
   "source": [
    "def grad_f(vector):\n",
    "    h = 0.00001\n",
    "    grad = np.zeros(len(vector))\n",
    "\n",
    "    for i in range(len(vector)):\n",
    "        vec = np.copy(vector)\n",
    "        vec[i] = vec[i] + h\n",
    "        derivada = (func(vec) - func(vector)) / h\n",
    "        grad[i] = derivada\n",
    "    return grad\n",
    "\n",
    "def grad_descent(grad,xn,r,tol=1e-12,maxit=1e5):\n",
    "    i = 0\n",
    "    maxit = int(maxit)\n",
    "    xn_i = grad\n",
    "\n",
    "    # Para funciones de 1 variable\n",
    "    if len(grad) == 1:\n",
    "        while (abs(xn_i - xn) > tol) and (i < maxit):\n",
    "            xn = xn_i\n",
    "            grad = grad_f(np.array([xn]))\n",
    "            xn_i = xn -  r * grad\n",
    "            i += 1\n",
    "\n",
    "    # Para funciones de múltiples variables\n",
    "    else:\n",
    "        while (abs(xn_i[0] - xn[0]) > tol or abs(xn_i[1] - xn[1]) > tol) & (i < maxit):\n",
    "            xn = xn_i\n",
    "            grad = grad_f(xn)\n",
    "            xn_i = xn -  r * grad\n",
    "            i += 1\n",
    "    return xn_i, func(xn_i)"
   ]
  },
  {
   "cell_type": "code",
   "execution_count": null,
   "id": "XAQiuQvkJH_t",
   "metadata": {
    "colab": {
     "base_uri": "https://localhost:8080/"
    },
    "id": "XAQiuQvkJH_t",
    "outputId": "2ffddb87-f25a-480c-bcd4-beb114faa397"
   },
   "outputs": [
    {
     "data": {
      "text/plain": [
       "(array([-0.82293948, -0.4994561 ]), -0.04198326453718155)"
      ]
     },
     "execution_count": 27,
     "metadata": {},
     "output_type": "execute_result"
    }
   ],
   "source": [
    "func = lambda X: math.sin(1/2 * X[0]**2 - 1/4 * X[1]**2 + 3) *math.cos(2*X[0] + 1 - math.exp(X[1]) )\n",
    "vector = np.random.rand(2)\n",
    "xn = np.random.rand(2)\n",
    "grad = grad_f(vector)\n",
    "grad_descent(grad,xn,r=0.01,tol=1e-12,maxit=1e5)"
   ]
  },
  {
   "cell_type": "markdown",
   "id": "d12f4f7d",
   "metadata": {
    "id": "d12f4f7d"
   },
   "source": [
    "# Reto\n",
    "\n",
    "## Implementar el algoritmo del descenso por gradiente para el problema de la regresión lineal simple."
   ]
  },
  {
   "cell_type": "code",
   "execution_count": null,
   "id": "bc44513f",
   "metadata": {
    "colab": {
     "base_uri": "https://localhost:8080/",
     "height": 482
    },
    "id": "bc44513f",
    "outputId": "2ec502a6-df53-4808-a5ea-12db57245a3e"
   },
   "outputs": [
    {
     "name": "stdout",
     "output_type": "stream",
     "text": [
      "mse = 0.03781434456422766\n",
      "w0 = 0.10059346423772286\n",
      "w1 = 1.8718775546746758\n"
     ]
    },
    {
     "data": {
      "image/png": "[encoded data removed]",
      "text/plain": [
       "<Figure size 640x480 with 1 Axes>"
      ]
     },
     "metadata": {},
     "output_type": "display_data"
    }
   ],
   "source": [
    "def MSE(y,y_):\n",
    "    ''' Cálculo del error cuadrático medio '''\n",
    "    return np.sum((y - y_)**2)/n\n",
    "\n",
    "def gradientes(x,y,y_):\n",
    "    ''' Derivadas parciales respecto a w0 y w1 '''\n",
    "    D_w0 = -2*np.sum((y-y_))/n\n",
    "    D_w1 = -2*np.sum(x*(y-y_))/n\n",
    "    return D_w1, D_w0\n",
    "\n",
    "def desc_grad(x,y,w0,w1,alpha,steps,tol):\n",
    "    ''' Implementación del descnso de gradiente sobre la regresión lineal '''\n",
    "    for _ in range(steps):\n",
    "        y_ = w0 + w1*x\n",
    "        mse = MSE(y,y_)\n",
    "        D_w1, D_w0 = gradientes(x,y,y_)\n",
    "        w0 = w0 - D_w0*alpha\n",
    "        w1 = w1 - D_w1*alpha\n",
    "        if mse < tol: break\n",
    "    return mse, w0, w1, y_\n",
    "\n",
    "# Datos del problema\n",
    "n = 20\n",
    "x = np.random.uniform(0,1,n)\n",
    "def f(x): return x*2\n",
    "noise_variance = 0.2\n",
    "noise = np.random.randn(x.shape[0])*noise_variance\n",
    "y = f(x) + noise\n",
    "\n",
    "# Inicialización de las constantes\n",
    "w0 = random.random()\n",
    "w1 = random.random()\n",
    "\n",
    "mse, w0, w1, y_ = desc_grad(x,y,w0,w1,alpha=0.01,steps=20000, tol = 1e-15)\n",
    "print(f'''mse = {mse}\n",
    "w0 = {w0}\n",
    "w1 = {w1}''')\n",
    "plt.plot(x,y,'o', label='real')\n",
    "plt.plot(x,y_, label='prediccion')\n",
    "plt.legend()\n",
    "plt.show()"
   ]
  },
  {
   "cell_type": "code",
   "execution_count": null,
   "id": "15Z0hhWojIEH",
   "metadata": {
    "id": "15Z0hhWojIEH"
   },
   "outputs": [],
   "source": []
  }
 ],
 "metadata": {
  "colab": {
   "provenance": []
  },
  "kernelspec": {
   "display_name": "Python 3 (ipykernel)",
   "language": "python",
   "name": "python3"
  },
  "language_info": {
   "codemirror_mode": {
    "name": "ipython",
    "version": 3
   },
   "file_extension": ".py",
   "mimetype": "text/x-python",
   "name": "python",
   "nbconvert_exporter": "python",
   "pygments_lexer": "ipython3",
   "version": "3.9.13"
  }
 },
 "nbformat": 4,
 "nbformat_minor": 5
}
