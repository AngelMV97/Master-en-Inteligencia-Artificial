{
 "cells": [
  {
   "cell_type": "markdown",
   "metadata": {
    "id": "kQn6fbhgtH9I"
   },
   "source": [
    "# Algoritmos - Actividad Guiada 1\n",
    "\n",
    "Nombre: Luis Angel Motta Valero<br>\n",
    "\n",
    "URL: https://drive.google.com/file/d/1cffVfEN8h9vyizXQ2yfSpE7FbmlkKI_J/view?usp=sharing<br>\n",
    "GitHub: [03MAIR-Algoritmos-de-Optimizacion](https://github.com/AngelMV97/03MAIR-Algoritmos-de-Optimizacion.git)\n"
   ]
  },
  {
   "cell_type": "markdown",
   "metadata": {
    "id": "_t62Ge7ZuKnC"
   },
   "source": [
    "## Torres de Hanoi con Divide y vencerás"
   ]
  },
  {
   "cell_type": "code",
   "execution_count": 2,
   "metadata": {
    "colab": {
     "base_uri": "https://localhost:8080/"
    },
    "id": "i32G0CUQvauE",
    "outputId": "ea69f6e7-aff1-4f04-d751-e061cf0fd5ff"
   },
   "outputs": [
    {
     "name": "stdout",
     "output_type": "stream",
     "text": [
      "Lleva desde  1  hasta  3\n",
      "Lleva desde  1  hasta  2\n",
      "Lleva desde  3  hasta  2\n",
      "Lleva desde  1  hasta  3\n",
      "Lleva desde  2  hasta  1\n",
      "Lleva desde  2  hasta  3\n",
      "Lleva desde  1  hasta  3\n"
     ]
    }
   ],
   "source": [
    "def Torres_Hanoi(N, desde, hasta):\n",
    "    if N ==1 :\n",
    "        print(\"Lleva desde \" ,desde , \" hasta \", hasta )\n",
    "    else:\n",
    "        #Torres_Hanoi(N-1, desde, 6-desde-hasta )\n",
    "        Torres_Hanoi(N-1, desde, 6-desde-hasta )\n",
    "        print(\"Lleva desde \" ,desde , \" hasta \", hasta )\n",
    "        #Torres_Hanoi(N-1,6-desde-hasta, hasta )\n",
    "        Torres_Hanoi(N-1, 6-desde-hasta  , hasta )\n",
    "\n",
    "\n",
    "Torres_Hanoi(3, 1 , 3)"
   ]
  },
  {
   "cell_type": "code",
   "execution_count": 3,
   "metadata": {
    "colab": {
     "base_uri": "https://localhost:8080/"
    },
    "id": "74qZZAekiNYR",
    "outputId": "2528d716-721a-4a50-dc62-f5a0dfab2b3e"
   },
   "outputs": [
    {
     "data": {
      "text/plain": [
       "13"
      ]
     },
     "execution_count": 3,
     "metadata": {},
     "output_type": "execute_result"
    }
   ],
   "source": [
    "#Sucesión_de_Fibonacci\n",
    "#https://es.wikipedia.org/wiki/Sucesi%C3%B3n_de_Fibonacci\n",
    "#Calculo del termino n-simo de la suscesión de Fibonacci\n",
    "def Fibonacci(N:int):\n",
    "    if N < 2:\n",
    "        return 1\n",
    "      else:\n",
    "        return Fibonacci(N-1)+Fibonacci(N-2)\n",
    "\n",
    "Fibonacci(6)"
   ]
  },
  {
   "cell_type": "markdown",
   "metadata": {
    "id": "RgT5XJsZ429L"
   },
   "source": [
    "## Devolución de cambio por técnica voraz"
   ]
  },
  {
   "cell_type": "code",
   "execution_count": 4,
   "metadata": {
    "colab": {
     "base_uri": "https://localhost:8080/"
    },
    "id": "uJtftBLU4-ap",
    "outputId": "efb6a0c0-2094-46b5-a3d8-04d83f94b4cd"
   },
   "outputs": [
    {
     "data": {
      "text/plain": [
       "[0, 1, 1, 0]"
      ]
     },
     "execution_count": 4,
     "metadata": {},
     "output_type": "execute_result"
    }
   ],
   "source": [
    "def cambio_monedas(N, SM):\n",
    "    SOLUCION = [0]*len(SM)   #SOLUCION = [0,0,0,0,..]\n",
    "    ValorAcumulado = 0\n",
    "\n",
    "    for i,valor in enumerate(SM):\n",
    "        monedas =  (N-ValorAcumulado)//valor\n",
    "        SOLUCION[i] = monedas\n",
    "        ValorAcumulado = ValorAcumulado + monedas*valor\n",
    "\n",
    "    if ValorAcumulado == N:\n",
    "        return SOLUCION\n",
    "\n",
    "\n",
    "cambio_monedas(15,[25,10,5,1])"
   ]
  },
  {
   "cell_type": "markdown",
   "metadata": {
    "id": "g8M9GTvy_Fa3"
   },
   "source": [
    "## N-Reinas por técnica de vueta atrás\n"
   ]
  },
  {
   "cell_type": "code",
   "execution_count": 5,
   "metadata": {
    "colab": {
     "base_uri": "https://localhost:8080/"
    },
    "id": "FqOPyCmv_K65",
    "outputId": "a5562d11-1acd-4aaf-b6cd-d8304eb06524"
   },
   "outputs": [
    {
     "name": "stdout",
     "output_type": "stream",
     "text": [
      "[1, 3, 5, 2, 4]\n",
      "\n",
      "[1, 4, 2, 5, 3]\n",
      "\n",
      "[2, 4, 1, 3, 5]\n",
      "\n",
      "[2, 5, 3, 1, 4]\n",
      "\n",
      "[3, 1, 4, 2, 5]\n",
      "\n",
      "[3, 5, 2, 4, 1]\n",
      "\n",
      "[4, 1, 3, 5, 2]\n",
      "\n",
      "[4, 2, 5, 3, 1]\n",
      "\n",
      "[5, 2, 4, 1, 3]\n",
      "\n",
      "[5, 3, 1, 4, 2]\n",
      "\n"
     ]
    }
   ],
   "source": [
    "def escribe(S):\n",
    "    n = len(S)\n",
    "    for x in range(n):\n",
    "    print(\"\")\n",
    "    for i in range(n):\n",
    "        if S[i] == x+1:\n",
    "            print(\" X \" , end=\"\")\n",
    "        else:\n",
    "            print(\" - \", end=\"\")\n",
    "\n",
    "\n",
    "def es_prometedora(SOLUCION,etapa):\n",
    "  #print(SOLUCION)\n",
    "  #Si la solución tiene dos valores iguales no es valida => Dos reinas en la misma fila\n",
    "    for i in range(etapa+1):\n",
    "        #print(\"El valor \" + str(SOLUCION[i]) + \" está \" +  str(SOLUCION.count(SOLUCION[i])) + \" veces\")\n",
    "        if SOLUCION.count(SOLUCION[i]) > 1:\n",
    "            return False\n",
    "\n",
    "    #Verifica las diagonales\n",
    "    for j in range(i+1, etapa +1 ):\n",
    "      #print(\"Comprobando diagonal de \" + str(i) + \" y \" + str(j))\n",
    "        if abs(i-j) == abs(SOLUCION[i]-SOLUCION[j]) : return False\n",
    "        return True\n",
    "\n",
    "\n",
    "\n",
    "def reinas(N, solucion=[], etapa=0):\n",
    "    if len(solucion) == 0:\n",
    "        solucion=[0 for i in range(N)]\n",
    "\n",
    "    for i in range(1, N+1):\n",
    "        solucion[etapa] = i\n",
    "\n",
    "    if es_prometedora(solucion, etapa):\n",
    "        if etapa == N-1:\n",
    "            print(solucion)\n",
    "            #escribe(solucion)\n",
    "            print()\n",
    "        else:\n",
    "            reinas(N, solucion, etapa+1)\n",
    "    else:\n",
    "        None\n",
    "\n",
    "    solucion[etapa] = 0\n",
    "\n",
    "reinas(5)"
   ]
  },
  {
   "cell_type": "code",
   "execution_count": 6,
   "metadata": {
    "colab": {
     "base_uri": "https://localhost:8080/"
    },
    "id": "VKGfD8j6knMW",
    "outputId": "8639f2f7-21b3-4d23-cf9b-b43992508c7d"
   },
   "outputs": [
    {
     "data": {
      "text/plain": [
       "(16, [0, 1, 1, 2, 3, 5, 8])"
      ]
     },
     "execution_count": 6,
     "metadata": {},
     "output_type": "execute_result"
    }
   ],
   "source": [
    "def fibonacci(n:int, option='valor'):\n",
    "    if n > 0:\n",
    "        if option.lower() == 'valor':\n",
    "            fib = [0,1]\n",
    "            for _ in range(1,n):\n",
    "                fib[1] += fib[0]\n",
    "                fib[0] = fib[1]\n",
    "            return fib[1]\n",
    "        elif option.lower() == 'lista':\n",
    "            fib = [0,1]\n",
    "            for _ in range(1,n):\n",
    "                fib.append(fib[-1] + fib[-2])\n",
    "            return fib\n",
    "        else: return 'Opción no reconocida'\n",
    "    else: return 'Valor no permitido'\n",
    "\n",
    "n = 6\n",
    "fibonacci(n),fibonacci(n,'lista')"
   ]
  }
 ],
 "metadata": {
  "colab": {
   "provenance": []
  },
  "kernelspec": {
   "display_name": "Python 3 (ipykernel)",
   "language": "python",
   "name": "python3"
  },
  "language_info": {
   "codemirror_mode": {
    "name": "ipython",
    "version": 3
   },
   "file_extension": ".py",
   "mimetype": "text/x-python",
   "name": "python",
   "nbconvert_exporter": "python",
   "pygments_lexer": "ipython3",
   "version": "3.9.13"
  }
 },
 "nbformat": 4,
 "nbformat_minor": 1
}
